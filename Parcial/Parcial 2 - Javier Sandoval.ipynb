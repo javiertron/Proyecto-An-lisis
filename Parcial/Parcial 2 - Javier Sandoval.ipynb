{
 "cells": [
  {
   "cell_type": "markdown",
   "metadata": {},
   "source": [
    "#  Parcial Práctico"
   ]
  },
  {
   "cell_type": "code",
   "execution_count": 2,
   "metadata": {
    "collapsed": true
   },
   "outputs": [],
   "source": [
    "import math\n",
    "import numpy as np\n",
    "import pylab as pl\n",
    "%matplotlib inline"
   ]
  },
  {
   "cell_type": "markdown",
   "metadata": {},
   "source": [
    "## 1. Es posible transformar algorithm en analysis sin usar operaciones \\izquierda\". Escriba una secuencia de operaciones (de la misma forma que la tabla de ejemplo) que tenga el mismo costo que el mostrado en el ejemplo pero sin usar operaciones \"izquierda\". "
   ]
  },
  {
   "cell_type": "markdown",
   "metadata": {},
   "source": [
    "1. Secuencia de operaciones para el algoritmo sin mover a la izquierda:\n",
    "\n",
    "1) Cadena Inicial: algorithm \n",
    "\n",
    "2) Operación: Derecha --------- Total: 0 \n",
    "\n",
    "3) Operación: Insertar n en posición 2 --------- Cadena: anlgorithm --------- Costo: 3 --------- Total: 3\n",
    "\n",
    "4) Operación: Insertar a en posición 3 --------- Cadena: analgorithm --------- Costo: 3 --------- Total: 6\n",
    "\n",
    "5) la \"l\" en la posición 4 se rehusa porque se contiene en la cadena analysis, hasta la posición 4 concuerda la cadena actual con \"analysys\"\n",
    "\n",
    "6) Operación: Derecha --------- Total:6\n",
    "\n",
    "7) Operación: reemplazar (por y) posición 5 --------- Cadena: analyorithm --------- Costo: 4 --------- Total: 10\n",
    "\n",
    "8) Operación: reemplazar (por s) posición 6 --------- Cadena: analysrithm --------- Costo: 4 --------- Total: 14\n",
    "\n",
    "9) Operación: reemplazar (por i) posición 7 --------- Cadena: analysiithm --------- Costo: 4 --------- Total: 18\n",
    "\n",
    "10) Operación: reemplazar (por s) posición 8 --------- Cadena: analysisthm --------- Costo: 4 --------- Total: 22\n",
    "\n",
    "11) Operación: Borrar posición 9 ---------  Cadena:  analysishm --------- Costo: 2 --------- Total: 24\n",
    "\n",
    "12) Operación: Borrar posición 9 ---------  Cadena:  analysism --------- Costo: 2 --------- Total: 26\n",
    "\n",
    "13) Operación: Borrar posición 9 ---------  Cadena:  analysis --------- Costo: 2 --------- Total: 28\n",
    "\n",
    "El costo puede ser menor si en el paso 8 se elimina la r, luego se hace una operación derecha, luego se inserta la s y finalmente se hacen 3 borrados más, para un coste total de 14 + 2 + 3 + 2 + 2 + 2 = 25\n"
   ]
  },
  {
   "cell_type": "markdown",
   "metadata": {},
   "source": [
    "## 2. Muestre que para dos cadenas X y Y con distancia de edición d(x; y), existe una secuencia S de operaciones que transforman x en y con costo d(x; y) donde S no contiene operaciones \"izquierda\"."
   ]
  },
  {
   "cell_type": "markdown",
   "metadata": {},
   "source": [
    "Suponiendo que en el algoritmo de transformación de cadenas se pueden utilizar operaciones \"izquierda\", \n",
    "\n",
    "<b>Premisa 1:</b> La operación de insertar un caracter y luego regresar con la operación \"izquierda\" a eliminarlo genera costo en el algoritmo de al menos +5 y deja la cadena en el estado anterior al que se realizaran dichas operaciones. \n",
    "\n",
    "<b>Premisa 2:</b> Así mismo si en una posición de la cadena reemplazamos por X y luego X reemplazamos por Y, esta operacióm puede ser sustituida por unicamente reemplazar Y una sola vez, generando menor coste y sin necesidad de utilizar la operación \"Izquierda\" para devolverme al caracter X.\n",
    "\n",
    "<b>Premisa 3:</b> En el caso de la inserción y el reemplazo, si se inserta un caracter X y luego se reemplaza genera mayor costo que simplemente insertar de una vez el caracter en dicha posición por el nuevo caracter entrante, sin la necesidad de la inserción de X, dicha operación también puede descartar el uso de \"Izquierda\".\n",
    "\n",
    "<b>Conclusión:</b>\n",
    "Ahora bien es necesario aclarar que luego de ver como las operaciones elementales podían ser reemplazadas por comandos sin usar la función \"Izquierda\" se concluye que todas las operaciones: inserción, reemplazar, eliminar y \"Derecha\" pueden ser ejecutadas en orden de lectura occidental (\"Izquierda a derecha\") y ordenadas de forma tal que no se necesite la función \"Izquierda\", incluso obteniendo un mejor Total sin afectar la transformación."
   ]
  },
  {
   "cell_type": "markdown",
   "metadata": {},
   "source": [
    "## 3.Muestre que el problema de calcular la distancia de edición d(x; y) presenta una subestructura óptima. (Considere todos los sufijos de x y y)"
   ]
  },
  {
   "cell_type": "markdown",
   "metadata": {},
   "source": [
    " Para dos cadenas entrantes de tamaño n y m, se puede hallar la distancia de cambio siguiendo la siguiente subestructura óptima:\n",
    "     \n",
    "    \n",
    "    SUMA desde 0 hasta i de --> Costo(i,j) = d(x,y{i}) => d(x,y) = Costo(m,n)\n",
    "    \n",
    "    El costo total es la sumatoria de convertir X en y para cada operación de Y{i}. \n",
    "    \n",
    "    //Donde X y Y son las cadenas, e i es el iterador sobre las operaciones de la cadena Y\n",
    "    para i operaciones.\n",
    "    \n",
    "<b>\n",
    "Investigación: \n",
    "\n",
    "Definición de Teorema de costo y distancia de edición:\n",
    "Distancia de Levenshtein\n",
    " Cumple con las siguientes condiciones:\n",
    "    \n",
    "    d(A,B) == d(B,A)\n",
    "\n",
    "    d(A,B) + d(B,C) >= d(A,C)\n",
    "\n",
    "El costo de aplicar S{i} en X' está dado por: \n",
    "    Costo(S{i}) = d(X,X'{i}) //donde d() es la distancia entre las cadenas.\n",
    "entonces por lo tanto partiendo de este coste:\n",
    "    Costo(S{i-1}) = d(X,X'{i-1})// donde el iterador i recorre la secuencia de operaciones S\n",
    "de esta manera se obtiene el costo de todas las operaciones\n",
    "\n",
    "Esa operación es el costo mínimo para transformar el primer j de la cadena X en el primer i de la cadena Y(asumiendo que estamos transformando X en Y), y su distancia será de Costo(n,m) = d(x,y), pero en detalle realizamos una serie de operaciones como vimos en el punto 1, entonces existe una subsecuencia  S{i} (como en los ejemplos vistos en clase) en donde se ejecutará la operación en la posición i de la secuencia de operaciones S. Ahora existirá una cadena auxiliar X' que será el resultado de aplicar las opreaciones de \"S{i}\", en dicha cadena X' las operaciones en 0 serán iguales a la cadena X, y las operaciones en un sufijo K daran como resultado X'{k} = Y. Por tanto habrá que realizar k operaciones para convertir la cadena auxiliar X' = X en X' = Y. \n",
    "</b>\n",
    "\n",
    "https://ocw.mit.edu/courses/electrical-engineering-and-computer-science/6-006-introduction-to-algorithms-fall-2011/assignments/\n"
   ]
  },
  {
   "cell_type": "markdown",
   "metadata": {},
   "source": [
    "## 4. Recursivamente defina el valor de la distancia de edición d(x; y) en terminos de los sufijos de las cadenas x y y. Señale como la distancia de edición contiene sobrelapamiento de los subproblemas."
   ]
  },
  {
   "cell_type": "markdown",
   "metadata": {},
   "source": [
    "Sin necesidad de aplicar la operación \"Izquierda\", es decir no hay necesidad de iterar sobre la cadena y por tanto podemos resolver este algoritmo de forma recursiva, simplemente en cada operación de recursividad sumando el costo de la operación que estamos realizando, está definido en el punto anterior que el Costo total es la sumatoria de todos los costos que existan en la conversión. \n",
    "\n",
    " \n",
    "$$ C_{xy}(i,j) = \\begin{cases} \n",
    "0 & i=0, j=0 Distancia \\hspace{0.1cm} 0\\\\C(i-1,j-1) & i > 0, j>0, X[i-1] = Y[j-1] en \\hspace{0.1cm} la \\hspace{0.1cm}  misma \\hspace{0.1cm}  ejecución \\hspace{0.1cm}  de \\hspace{0.1cm}  operaciones \\hspace{0.1cm}  dentro \\hspace{0.1cm}  de \\hspace{0.1cm}  la \\hspace{0.1cm}  cadena \\hspace{0.1cm}  x \\hspace{0.1cm}  y \\hspace{0.1cm}  la \\hspace{0.1cm}  cadena \\hspace{0.1cm}  y\\\\C(i-1,j) + 2 & i>0,para \\hspace{0.1cm} la \\hspace{0.1cm} ejecucion \\hspace{0.1cm} de  \\hspace{0.1cm} eliminar\\\\C(i-1,j-1)+4 & i>0, j>0,para \\hspace{0.1cm} la \\hspace{0.1cm} ejecucion \\hspace{0.1cm} de  \\hspace{0.1cm} reemplazar\\\\C(i,j-1)+3 & i>0, j>0,para \\hspace{0.1cm} la \\hspace{0.1cm} ejecucion \\hspace{0.1cm} de  \\hspace{0.1cm} insercion\n",
    " \\end{cases} \n",
    " $$\n",
    " La distancia de edición tiene sobrelapamiento de los subproblemas en el caso que del valor de las distancias con los sufijos i = i-1 ; y j = j-1 se tiene que correr recursivamente en todos los subproblemas que suman costo descritos en el cuadro anterior, es decir que se repite mínimo una vez cada que se ejecute una operación que sume al costo total."
   ]
  },
  {
   "cell_type": "markdown",
   "metadata": {},
   "source": [
    "## 5. Describa un algoritmo de programación dinámica que calcule la distancia de edición de x y y. (No use memorización) Analice el tiempo de ejecución y el espacio requeridos por su algoritmo."
   ]
  },
  {
   "cell_type": "markdown",
   "metadata": {},
   "source": [
    "Si no se utilizara la matriz para memorizar las mínimas distancias entre las cadenas, abría que realizar tantas operaciones exponeciales como caracteres tengan las cadenas, es decir para cada caracter existen las 4 (5 con el cero) posibilidades para realizar llamando en cada comparación la recursión hasta el último caracter(En realidad hasta el primero ya que se comienza desde el final de la cadena), por lo tanto su tiempo de ejecución será de\n",
    "\n",
    "<b>T(n)=4*4...n veces ----> T(n) = 4^n + costo de comparación. </b>\n",
    "\n",
    "Esta ejecución es muy costosa por lo que se considera la siguiente definición:   \n",
    "\n",
    "\n",
    "Son 2 cadenas, una de tamaño n y otra de tamaño m como ya se ha descrito varias veces en estos ejercicios, un pseudocódigo tendría la siguiente estructura corriendo la ecuación planteada para la recurrencia de la distancia en términos de sufijos (Costo):\n",
    "\n",
    "Me debe retornar una matriz en cuyas posiciones i,j se encuentren la distancia de edición (costo) para cada iteración del algoritmo. Este algoritmo tiene un costo de ejecución de O(nm). la matriz en la posición (n,m) tendrá el costo total del algoritmo.\n",
    "\n",
    "<b>Distancia_de_Edicion</b>(X,Y)\n",
    "    n = tamaño X\n",
    "    m = tamaño y\n",
    "            //recorre todos los caracteres de X hasta n y todos los carateres de y hasta m\n",
    "            \n",
    "   <b>para</b> todo i < n\n",
    "   \n",
    "   <b>para</b> todo j < m\n",
    "            \n",
    "            //Seleccionar el menor costo según los criterios dados por la función de recursividad descrita en el               punto 4.\n",
    "  <b>hacer</b> matriz[i][j] ---> correspondencia con c(i,j)\n",
    "  \n",
    "  <b>fin_para</b>\n",
    "  \n",
    "  <b>fin_para</b>\n",
    "  \n",
    "  <b>retornar</b> matriz[n][m]\n",
    "   \n",
    "\n",
    "<b>O(nm) < O(4^(n+m))</b>\n"
   ]
  },
  {
   "cell_type": "markdown",
   "metadata": {},
   "source": [
    "## 6. Implemente su algoritmo en Python, y publiquelo en un NoteBook donde lo pruebe para las cadenas: \n",
    "x = software engineering, y = computer science"
   ]
  },
  {
   "cell_type": "code",
   "execution_count": 41,
   "metadata": {
    "collapsed": false
   },
   "outputs": [],
   "source": [
    "def distancia_de_Edicion(x, y):\n",
    "    n = len(x)\n",
    "    m = len(y)\n",
    "    matriz =  np.zeros((n+1,m+1))\n",
    "    for i in range(n+1):\n",
    "        matriz[i][0] = i*2\n",
    "    for j in range(m+1):\n",
    "         matriz[0][j] = j*3\n",
    "    for i in range(1, n+1):\n",
    "        for j in range(1, m+1):\n",
    "            if  x[i-1] != y[j-1]:\n",
    "                matriz[i][j] = min(matriz[i][j-1]+3, matriz[i-1][j-1]+4 ,matriz[i-1][j]+2)\n",
    "            else: \n",
    "                matriz[i][j] = min(matriz[i][j-1]+3, matriz[i-1][j-1] ,matriz[i-1][j]+2)\n",
    "            \n",
    "    return matriz[n][m]"
   ]
  },
  {
   "cell_type": "code",
   "execution_count": 42,
   "metadata": {
    "collapsed": false
   },
   "outputs": [
    {
     "name": "stdout",
     "output_type": "stream",
     "text": [
      "47.0\n"
     ]
    }
   ],
   "source": [
    "print distancia_de_Edicion(\"software engineering\",\"computer science\")"
   ]
  },
  {
   "cell_type": "code",
   "execution_count": 43,
   "metadata": {
    "collapsed": false
   },
   "outputs": [
    {
     "name": "stdout",
     "output_type": "stream",
     "text": [
      "24.0\n"
     ]
    }
   ],
   "source": [
    "print distancia_de_Edicion(\"algorithm\",\"analysis\")"
   ]
  },
  {
   "cell_type": "markdown",
   "metadata": {},
   "source": [
    "## Ejecute su programa para las tres instancias proveidas en 3 archivos de texto plano, donde cada archivo\n",
    "\n",
    "contiene las siguientes cuatro l ́ıneas:\n",
    "\n",
    "(a) El n ́umero de caracteres m en la cadena x.\n",
    "\n",
    "(b) La cadena x\n",
    "\n",
    "(c) El n ́umero de caracteres n en la cadena y.\n",
    "\n",
    "(d) La cadena y"
   ]
  },
  {
   "cell_type": "code",
   "execution_count": 44,
   "metadata": {
    "collapsed": false
   },
   "outputs": [],
   "source": [
    "def distancia_arch(nomArch):\n",
    "    \n",
    "    f = open(nomArch,'r')\n",
    "    n = f.readline()\n",
    "    x = f.readline()\n",
    "    m = f.readline()\n",
    "    y = f.readline()\n",
    "    print \"Largo Cadena 1:\" + n\n",
    "    print \"Largo Cadena 2:\" + m\n",
    "    print \"La distancia de edición para el archivo es:\"\n",
    "    return distancia_de_Edicion(x,y)\n",
    "    "
   ]
  },
  {
   "cell_type": "code",
   "execution_count": 45,
   "metadata": {
    "collapsed": false
   },
   "outputs": [
    {
     "name": "stdout",
     "output_type": "stream",
     "text": [
      "Largo Cadena 1:602\n",
      "\n",
      "Largo Cadena 2:705\n",
      "\n",
      "La distancia de edición para el archivo es:\n",
      "1816.0\n"
     ]
    }
   ],
   "source": [
    "\n",
    "print distancia_arch(\"ps7_input1.txt\")"
   ]
  },
  {
   "cell_type": "code",
   "execution_count": 46,
   "metadata": {
    "collapsed": false,
    "scrolled": true
   },
   "outputs": [
    {
     "name": "stdout",
     "output_type": "stream",
     "text": [
      "Largo Cadena 1:715\n",
      "\n",
      "Largo Cadena 2:695\n",
      "\n",
      "La distancia de edición para el archivo es:\n",
      "1824.0\n"
     ]
    }
   ],
   "source": [
    "\n",
    "print distancia_arch(\"ps7_input2.txt\")"
   ]
  },
  {
   "cell_type": "code",
   "execution_count": 47,
   "metadata": {
    "collapsed": false
   },
   "outputs": [
    {
     "name": "stdout",
     "output_type": "stream",
     "text": [
      "Largo Cadena 1:449\n",
      "\n",
      "Largo Cadena 2:760\n",
      "\n",
      "La distancia de edición para el archivo es:\n",
      "1829.0\n"
     ]
    }
   ],
   "source": [
    "\n",
    "print distancia_arch(\"ps7_input3.txt\")"
   ]
  },
  {
   "cell_type": "markdown",
   "metadata": {
    "collapsed": true
   },
   "source": [
    "### Me excuso por la pobre definición matemática de los algoritmos, debo aumentar el conocimiento en el manejo de Latex para poder definir bien los teoremas como en el punto 4."
   ]
  },
  {
   "cell_type": "code",
   "execution_count": null,
   "metadata": {
    "collapsed": true
   },
   "outputs": [],
   "source": []
  }
 ],
 "metadata": {
  "anaconda-cloud": {},
  "kernelspec": {
   "display_name": "Python [conda root]",
   "language": "python",
   "name": "conda-root-py"
  },
  "language_info": {
   "codemirror_mode": {
    "name": "ipython",
    "version": 2
   },
   "file_extension": ".py",
   "mimetype": "text/x-python",
   "name": "python",
   "nbconvert_exporter": "python",
   "pygments_lexer": "ipython2",
   "version": "2.7.12"
  }
 },
 "nbformat": 4,
 "nbformat_minor": 1
}
