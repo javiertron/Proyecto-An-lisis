{
 "cells": [
  {
   "cell_type": "markdown",
   "metadata": {},
   "source": [
    "Javier Esteban Sandoval Albarracín "
   ]
  },
  {
   "cell_type": "markdown",
   "metadata": {},
   "source": [
    "# PARCIAL FINAL"
   ]
  },
  {
   "cell_type": "code",
   "execution_count": 11,
   "metadata": {
    "collapsed": true
   },
   "outputs": [],
   "source": [
    "import numpy as np\n",
    "import math\n",
    "%matplotlib inline\n",
    "from matplotlib import pyplot as plt\n",
    "from matplotlib.path import Path\n",
    "from matplotlib.patches import PathPatch"
   ]
  },
  {
   "cell_type": "markdown",
   "metadata": {},
   "source": [
    "# Punto 1"
   ]
  },
  {
   "cell_type": "markdown",
   "metadata": {},
   "source": [
    "Describa un algoritmo que determine en tiempo O(n\n",
    "2\n",
    "lg n) si existen tres puntos colineales de un\n",
    "conjunto de n puntos dados."
   ]
  },
  {
   "cell_type": "code",
   "execution_count": 172,
   "metadata": {
    "collapsed": false
   },
   "outputs": [],
   "source": [
    "def puntosColineales(puntos_x,puntos_y):\n",
    "    n = len(puntos_x)\n",
    "    pendientes = []\n",
    "    tuplas = []\n",
    "    puntos = []\n",
    "    puntitos = False;\n",
    "    for i in range(n):\n",
    "        coord_x_1 = puntos_x[i]\n",
    "        coord_y_1 = puntos_y[i]\n",
    "        puntos.append((coord_x_1,coord_y_1))\n",
    "        j=i\n",
    "        for j  in range(n):\n",
    "            coord_x_2 = puntos_x[j]\n",
    "            coord_y_2 = puntos_y[j]\n",
    "            tupla = (coord_x_2,coord_y_2)\n",
    "            tupla3 = (coord_x_1,coord_y_1)\n",
    "            if coord_x_2-coord_x_1 != 0 :\n",
    "                pendiente = float((coord_y_2-coord_y_1)/(coord_x_2-coord_x_1))\n",
    "                tupla2 = (tupla3,tupla)\n",
    "                tuplas.append(tupla2)\n",
    "                pendientes.append(pendiente)\n",
    "            else:\n",
    "                if coord_x_2 == coord_x_1 and coord_y_2 != coord_y_1:\n",
    "                    pendiente = 1000\n",
    "                    tupla2 = (tupla3,tupla)\n",
    "                    tuplas.append(tupla2)\n",
    "                    pendientes.append(pendiente)\n",
    "                \n",
    "    x = 0;\n",
    "    for a,b in tuplas:    \n",
    "        for i in range(n): \n",
    "            if a != puntos[i] and b!= puntos[i]:\n",
    "                if puntos[i][0] != a[0] and puntos[i][0] - b[0]: \n",
    "                    pendiente2 = float((puntos[i][1] - b[1])/(puntos[i][0] - b[0]))\n",
    "                elif puntos[i][0] == a[0]:\n",
    "                    pendiente2 = 1000\n",
    "                    \n",
    "                if pendiente2 == pendientes[x]:\n",
    "                            puntitos = True\n",
    "                \n",
    "        x = x + 1\n",
    "    \n",
    "    print puntitos"
   ]
  },
  {
   "cell_type": "code",
   "execution_count": 193,
   "metadata": {
    "collapsed": false
   },
   "outputs": [
    {
     "name": "stdout",
     "output_type": "stream",
     "text": [
      "[ 0.29109817  0.49283532  0.41452868  0.27599543  0.87179057  0.83111385\n",
      "  0.86701729  0.52789672  0.33929395  0.28850998]\n",
      "[ 0.83514045  0.13933402  0.55424397  0.22287558  0.94648549  0.54895546\n",
      "  0.37368516  0.44263865  0.33855236  0.40699012]\n",
      "False\n"
     ]
    }
   ],
   "source": [
    "x = np.random.random([10])\n",
    "y = np.random.random([10])\n",
    "\n",
    "print x\n",
    "print y\n",
    "puntosColineales(x,y)"
   ]
  },
  {
   "cell_type": "code",
   "execution_count": 194,
   "metadata": {
    "collapsed": false
   },
   "outputs": [
    {
     "name": "stdout",
     "output_type": "stream",
     "text": [
      "[1.0, 4.0, 5.0, 2.0, 3.0]\n",
      "[1.9, 1.9, 1.9, 3.0, 4.0]\n",
      "True\n"
     ]
    }
   ],
   "source": [
    "x = [1.0,4.0,5.0,2.0,3.0]\n",
    "y= [1.9,1.9,1.9,3.0,4.0]\n",
    "\n",
    "print x\n",
    "print y\n",
    "puntosColineales(x,y)"
   ]
  },
  {
   "cell_type": "markdown",
   "metadata": {},
   "source": [
    "Para el algoritmo puntosColineales, se realiza de manera lineal la solución del problema, se toma respecto a cada punto la pendiente entre cada par de puntos, de allí se compara luego con las pendientes y los puntos aociados se compara a un tercer punto, si las pendientes coinciden entonces los puntos son colíneales: 2 puntos de la primera pendiente y el tercero comparado con el punto intermedio. \n",
    "\n",
    "\n",
    "Tiempo de Ejecución: T(n) = n^2 + mn\n",
    "\n",
    "donde m es el tamaño de tuplas que se encuentran de puntos y pendientes.\n",
    "\n",
    "Complejidad: O(n^2) < O(n^2log(n)) la cual acota superiormente a n^2"
   ]
  },
  {
   "cell_type": "code",
   "execution_count": null,
   "metadata": {
    "collapsed": true
   },
   "outputs": [],
   "source": []
  }
 ],
 "metadata": {
  "kernelspec": {
   "display_name": "Python 2",
   "language": "python",
   "name": "python2"
  },
  "language_info": {
   "codemirror_mode": {
    "name": "ipython",
    "version": 2
   },
   "file_extension": ".py",
   "mimetype": "text/x-python",
   "name": "python",
   "nbconvert_exporter": "python",
   "pygments_lexer": "ipython2",
   "version": "2.7.13"
  }
 },
 "nbformat": 4,
 "nbformat_minor": 2
}
