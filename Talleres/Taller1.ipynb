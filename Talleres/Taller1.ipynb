{
 "cells": [
  {
   "cell_type": "markdown",
   "metadata": {},
   "source": [
    "<h1>Análisando algoritmos de ordenamiento</h1>"
   ]
  },
  {
   "cell_type": "code",
   "execution_count": 1,
   "metadata": {
    "collapsed": true
   },
   "outputs": [],
   "source": [
    "import math\n",
    "import numpy as np\n",
    "import pylab as pl\n",
    "%matplotlib inline"
   ]
  },
  {
   "cell_type": "markdown",
   "metadata": {},
   "source": [
    "<h2>Problema de ordenamiento</h2>\n",
    "\n",
    "Input:  $A[1..n] = <a_1,a_2\\ldots, a_n>$\n",
    "\n",
    "Output: $A'[1..n] = <a'_1,a'_2\\ldots, a'_n> : a'_1\\leq a'_2 \\leq \\ldots \\leq  a'_n$"
   ]
  },
  {
   "cell_type": "markdown",
   "metadata": {},
   "source": [
    "<h3> Ordenamiento por inserción </h3>"
   ]
  },
  {
   "cell_type": "code",
   "execution_count": null,
   "metadata": {
    "collapsed": true
   },
   "outputs": [],
   "source": [
    "def insertion_sort(A):\n",
    "    j = 1\n",
    "    while j < len(A):\n",
    "        key = A[j]\n",
    "        i = j - 1\n",
    "        while (i >= 0) and (A[i] > key):\n",
    "            A[i + 1] = A[i]\n",
    "            i = i -1\n",
    "        A[i + 1] = key\n",
    "        j = j + 1"
   ]
  },
  {
   "cell_type": "code",
   "execution_count": null,
   "metadata": {
    "collapsed": false
   },
   "outputs": [],
   "source": [
    "B = np.random.permutation(range(0,10))\n",
    "print B\n",
    "insertion_sort(B)\n",
    "print B"
   ]
  },
  {
   "cell_type": "markdown",
   "metadata": {},
   "source": [
    "<h4>Correctitud</h4>\n",
    "\n",
    "<b>Invariante:</b> Al comienzo de cada iteración del ciclo externo el subarreglo $A[0..j-1]$ consiste de los elementos originalmente en $A[0..j-1]$ pero ordenados."
   ]
  },
  {
   "cell_type": "code",
   "execution_count": 59,
   "metadata": {
    "collapsed": true
   },
   "outputs": [],
   "source": [
    "def invariant(A, original_A):\n",
    "    l1 = list(A)\n",
    "    l2 = list(original_A)\n",
    "    l2.sort()\n",
    "    return l1 == l2"
   ]
  },
  {
   "cell_type": "code",
   "execution_count": 60,
   "metadata": {
    "collapsed": false
   },
   "outputs": [
    {
     "name": "stdout",
     "output_type": "stream",
     "text": [
      "True\n",
      "False\n"
     ]
    }
   ],
   "source": [
    "print invariant([1, 2, 3, 4], [4, 3, 2, 1])\n",
    "print invariant([1, 2, 3, 4], [5, 3, 2, 1])"
   ]
  },
  {
   "cell_type": "markdown",
   "metadata": {},
   "source": [
    "Algoritmo de ordenamiento por inserción incluyendo evaluación de la invariante (inicialización, mantenimiento, terminación)"
   ]
  },
  {
   "cell_type": "code",
   "execution_count": 52,
   "metadata": {
    "collapsed": true
   },
   "outputs": [],
   "source": [
    "def right_insertion_sort(A):\n",
    "    original_A = list(A)\n",
    "    j = 1\n",
    "    assert invariant(A[0:j], original_A[0:j])\n",
    "    while j < len(A):\n",
    "        assert invariant(A[0:j], original_A[0:j])\n",
    "        key = A[j]\n",
    "        i = j - 1\n",
    "        while (i >= 0) and (A[i] > key):\n",
    "            A[i + 1] = A[i]\n",
    "            i = i -1        \n",
    "        A[i + 1] = key\n",
    "        j = j + 1\n",
    "    assert invariant(A[0:j], original_A[0:j])"
   ]
  },
  {
   "cell_type": "code",
   "execution_count": null,
   "metadata": {
    "collapsed": false
   },
   "outputs": [],
   "source": [
    "B = [5, 4, 6, 3, 7, 2, 8, 1, 9]\n",
    "right_insertion_sort(B)\n",
    "print B"
   ]
  },
  {
   "cell_type": "markdown",
   "metadata": {},
   "source": [
    "La siguiente función incluye un error, por lo tanto la aserción para comprobar el invariante de ciclo falla. Esto genera una excepción que es capturada para imprimir un mensaje y el estado de las variables."
   ]
  },
  {
   "cell_type": "code",
   "execution_count": null,
   "metadata": {
    "collapsed": true
   },
   "outputs": [],
   "source": [
    "def wrong_insertion_sort(A):\n",
    "    original_A = list(A)\n",
    "    j = 1\n",
    "    try:\n",
    "        assert invariant(A[0:j], original_A[0:j])\n",
    "        while j < len(A):\n",
    "            assert invariant(A[0:j], original_A[0:j])\n",
    "            key = A[j]\n",
    "            i = j - 1\n",
    "            while (i >= 0) and (A[i] < key):\n",
    "                A[i + 1] = A[i]\n",
    "                i = i - 1        \n",
    "            A[i + 1] = key\n",
    "            j = j + 1\n",
    "        assert invariant(A[0:j], original_A[0:j])\n",
    "    except  AssertionError:\n",
    "        print \"Error en el invariante de ciclo!\"\n",
    "        print \"j=\", j\n",
    "        print \"i=\", i\n",
    "        print \"A=\", A\n",
    "        print \"Original A=\", original_A"
   ]
  },
  {
   "cell_type": "code",
   "execution_count": null,
   "metadata": {
    "collapsed": false
   },
   "outputs": [],
   "source": [
    "B = [5, 4, 6, 3, 7, 2, 8, 1, 9]\n",
    "wrong_insertion_sort(B)"
   ]
  },
  {
   "cell_type": "markdown",
   "metadata": {},
   "source": [
    "<h4> Análisis del tiempo de ejecución</h4>"
   ]
  },
  {
   "cell_type": "code",
   "execution_count": 53,
   "metadata": {
    "collapsed": true
   },
   "outputs": [],
   "source": [
    "class Counter:\n",
    "    '''\n",
    "    Class Counter\n",
    "    Implements a step counter, which is used to compute the number of basic operations performed in\n",
    "    a particular call to a function.\n",
    "    '''\n",
    "    def __init__(self):\n",
    "        self.steps = 0\n",
    "\n",
    "    def reset(self):\n",
    "        self.steps = 0\n",
    "\n",
    "    def count(self):\n",
    "        self.steps += 1\n",
    "\n",
    "    def print_steps(self):\n",
    "        print \"Number of steps =\", self.steps\n",
    "        \n",
    "def acct_insertion_sort(A, acct):\n",
    "    j = 1; acct.count()\n",
    "    acct.count()\n",
    "    while j < len(A):\n",
    "        acct.count()\n",
    "        key = A[j]; acct.count()\n",
    "        i = j - 1; acct.count()\n",
    "        acct.count()\n",
    "        while (i >= 0) and (A[i] > key):\n",
    "            acct.count()\n",
    "            A[i + 1] = A[i]; acct.count()\n",
    "            i = i -1; acct.count()\n",
    "        A[i + 1] = key; acct.count()\n",
    "        j = j + 1; acct.count()"
   ]
  },
  {
   "cell_type": "code",
   "execution_count": 54,
   "metadata": {
    "collapsed": false
   },
   "outputs": [
    {
     "name": "stdout",
     "output_type": "stream",
     "text": [
      "Number of steps = 98\n"
     ]
    }
   ],
   "source": [
    "B = np.random.permutation(range(0,10))\n",
    "acct = Counter()\n",
    "acct_insertion_sort(B, acct)\n",
    "acct.print_steps()"
   ]
  },
  {
   "cell_type": "markdown",
   "metadata": {},
   "source": [
    "<h4>Análisis experimental</h4>\n",
    "Ahora vamos a analizar el comportamiento del algoritmo cuando el tamaño de la entrada varía. La siguiente función genera arreglos al azar de tamaño 1 a n, llama la función acct_insertion_sort(l, acct) y contabiliza el número de pasos."
   ]
  },
  {
   "cell_type": "code",
   "execution_count": 55,
   "metadata": {
    "collapsed": true
   },
   "outputs": [],
   "source": [
    "import random as rnd\n",
    "\n",
    "def exper_analysis(n):\n",
    "    results = []\n",
    "    acct = Counter()\n",
    "    for i in range(n):\n",
    "        l = range(i)\n",
    "        rnd.shuffle(l)\n",
    "        acct.reset()\n",
    "        acct_insertion_sort(l, acct)\n",
    "        results.append(acct.steps)\n",
    "    return results"
   ]
  },
  {
   "cell_type": "code",
   "execution_count": 37,
   "metadata": {
    "collapsed": false,
    "scrolled": true
   },
   "outputs": [
    {
     "name": "stdout",
     "output_type": "stream",
     "text": [
      "[2, 2, 8, 20, 29, 41, 47, 62, 77, 125]\n"
     ]
    }
   ],
   "source": [
    "print exper_analysis(10)"
   ]
  },
  {
   "cell_type": "code",
   "execution_count": 38,
   "metadata": {
    "collapsed": false
   },
   "outputs": [
    {
     "data": {
      "text/plain": [
       "[<matplotlib.lines.Line2D at 0x778d6d8>]"
      ]
     },
     "execution_count": 38,
     "metadata": {},
     "output_type": "execute_result"
    },
    {
     "data": {
      "image/png": "[encoded data removed]",
      "text/plain": [
       "<matplotlib.figure.Figure at 0x4473128>"
      ]
     },
     "metadata": {},
     "output_type": "display_data"
    }
   ],
   "source": [
    "pl.clf()\n",
    "x = np.arange(100)\n",
    "y = np.array(exper_analysis(100))\n",
    "pl.plot(x, y, 'k.')"
   ]
  },
  {
   "cell_type": "markdown",
   "metadata": {},
   "source": [
    "# Actividad\n",
    " <ol>\n",
    "  <li>En una sola gráfica represente el número de operaciones, tiempo y T(n) que el algoritmo de ordenamiento por inserción requiere para ordenar arreglos de tamaño n (varie n) en el peor de los casos.</li>\n",
    "  <li>Replique los ejercicios realizados en este taller para el algoritmo de ordenamiento por mezclas (merge sort)</li>\n",
    "  <li>Replique los ejercicios realizados en este taller para el algoritmo de ordenamiento quick-sort</li>\n",
    "</ol> "
   ]
  },
  {
   "cell_type": "code",
   "execution_count": null,
   "metadata": {
    "collapsed": true
   },
   "outputs": [],
   "source": []
  },
  {
   "cell_type": "code",
   "execution_count": null,
   "metadata": {
    "collapsed": true
   },
   "outputs": [],
   "source": [
    "import time\n",
    "tic = time.clock()#get start time\n",
    "toc = time.clock()#get final time"
   ]
  },
  {
   "cell_type": "markdown",
   "metadata": {
    "collapsed": true
   },
   "source": [
    "# Punto 1"
   ]
  },
  {
   "cell_type": "code",
   "execution_count": 61,
   "metadata": {
    "collapsed": true
   },
   "outputs": [],
   "source": [
    "import random as rnd\n",
    "import time\n",
    "def exper_analysis_insertion(n):\n",
    "    results = []\n",
    "    acct = Counter()\n",
    "    for i in range(n):\n",
    "        l = range(i)\n",
    "        rnd.shuffle(l)\n",
    "        tic = time.clock()\n",
    "        right_insertion_sort(l)\n",
    "        toc = time.clock()\n",
    "        results.append((toc-tic)*1e6)\n",
    "    return results"
   ]
  },
  {
   "cell_type": "code",
   "execution_count": 62,
   "metadata": {
    "collapsed": true
   },
   "outputs": [],
   "source": [
    "def exper_teorico(n):\n",
    "    results = []\n",
    "    for i in range(n):\n",
    "        results.append(i*i)\n",
    "    return results"
   ]
  },
  {
   "cell_type": "code",
   "execution_count": 64,
   "metadata": {
    "collapsed": false
   },
   "outputs": [
    {
     "data": {
      "image/png": "[encoded data removed]",
      "text/plain": [
       "<matplotlib.figure.Figure at 0x8f43e48>"
      ]
     },
     "metadata": {},
     "output_type": "display_data"
    }
   ],
   "source": [
    "pl.clf()\n",
    "x = np.arange(100)\n",
    "yt = np.array(exper_analysis_insertion(100)) #tiempo de ejecución\n",
    "yTeo = np.array(exper_teorico(100)) # Tiempo teorico O(n^2)\n",
    "y = np.array(exper_analysis(100)) #Número de Operaciones\n",
    "\n",
    "pl.plot(x, y , x, yt, x,yTeo)\n",
    "pl.show()"
   ]
  },
  {
   "cell_type": "markdown",
   "metadata": {},
   "source": [
    "# Punto 2"
   ]
  },
  {
   "cell_type": "markdown",
   "metadata": {},
   "source": [
    "# Invariante"
   ]
  },
  {
   "cell_type": "markdown",
   "metadata": {},
   "source": [
    "Invariante Para el Merge, el algoritmo debe verificar para los arreglos que en cada nivel del arbol los arreglos se encuentran ordenados, es decir que el elemento de la izquierda es siempre menor al de la derecha y así mismo es mayor al de su izquierda para todo elemento a partir de i=1."
   ]
  },
  {
   "cell_type": "code",
   "execution_count": 34,
   "metadata": {
    "collapsed": false
   },
   "outputs": [],
   "source": [
    "def invarianteMerge(arr, pos):\n",
    "\n",
    "        if pos < len(arr):\n",
    "            while pos < len(arr) - 1:\n",
    "                if arr[pos] < arr[pos + 1]:\n",
    "                    pos = pos + 1\n",
    "                else:\n",
    "                    return False\n",
    "        return True"
   ]
  },
  {
   "cell_type": "code",
   "execution_count": 67,
   "metadata": {
    "collapsed": false
   },
   "outputs": [],
   "source": [
    "class Counter:\n",
    "    '''\n",
    "    Class Counter\n",
    "    Implements a step counter, which is used to compute the number of basic operations performed in\n",
    "    a particular call to a function.\n",
    "    '''\n",
    "    def __init__(self):\n",
    "        self.steps = 0\n",
    "\n",
    "    def reset(self):\n",
    "        self.steps = 0\n",
    "\n",
    "    def count(self):\n",
    "        self.steps += 1\n",
    "\n",
    "    def print_steps(self):\n",
    "        print \"Number of steps =\", self.steps\n",
    "        \n",
    "def mergeSort(arreglo, acct):\n",
    "    if len(arreglo)>1:\n",
    "        mid = len(arreglo)//2; acct.count()\n",
    "        izq = arreglo[:mid]; acct.count()\n",
    "        der = arreglo[mid:]; acct.count()\n",
    "        mergeSort(izq, acct)\n",
    "        mergeSort(der, acct)\n",
    "        a=0;i=0;j=0\n",
    "        while i < len(izq) and j < len(der):\n",
    "           \n",
    "            \n",
    "            if izq[i] < der[j]:\n",
    "                arreglo[a]=izq[i]; acct.count()\n",
    "                i = i + 1; acct.count()\n",
    "            else:\n",
    "                arreglo[a]=der[j]\n",
    "                j = j + 1; acct.count()\n",
    "                a = a + 1; acct.count()\n",
    "\n",
    "        while i < len(izq):\n",
    "            acct.count()\n",
    "            arreglo[a]=izq[i]; acct.count()\n",
    "            i = i + 1; acct.count()\n",
    "            a = a + 1; acct.count()\n",
    "\n",
    "        while j < len(der):\n",
    "            acct.count()\n",
    "            arreglo[a]= der[j]; acct.count()\n",
    "            j = j + 1; acct.count()\n",
    "            a = a + 1; acct.count()\n",
    "            \n",
    "            "
   ]
  },
  {
   "cell_type": "code",
   "execution_count": 68,
   "metadata": {
    "collapsed": false
   },
   "outputs": [
    {
     "name": "stdout",
     "output_type": "stream",
     "text": [
      "Number of steps = 127\n",
      "[2 2 2 2 2 2 2 2 2 2]\n"
     ]
    }
   ],
   "source": [
    "B = np.random.permutation(range(0,10))\n",
    "c  = [32,25,85,17,98,74,8]\n",
    "acct = Counter()\n",
    "mergeSort(B, acct)\n",
    "acct.print_steps()\n",
    "print B"
   ]
  },
  {
   "cell_type": "code",
   "execution_count": 69,
   "metadata": {
    "collapsed": true
   },
   "outputs": [],
   "source": [
    "import random as rnd\n",
    "\n",
    "def exper_analysis_merge(n):\n",
    "    results = []\n",
    "    acct = Counter()\n",
    "    for i in range(n):\n",
    "        l = range(i)\n",
    "        rnd.shuffle(l)\n",
    "        acct.reset()\n",
    "        mergeSort(l, acct)\n",
    "        results.append(acct.steps)\n",
    "    return results"
   ]
  },
  {
   "cell_type": "code",
   "execution_count": 70,
   "metadata": {
    "collapsed": false
   },
   "outputs": [
    {
     "name": "stdout",
     "output_type": "stream",
     "text": [
      "[0, 0, 9, 20, 33, 48, 65, 78, 91, 104, 125, 138, 163, 172, 189]\n"
     ]
    }
   ],
   "source": [
    "print exper_analysis_merge(15)"
   ]
  },
  {
   "cell_type": "code",
   "execution_count": 71,
   "metadata": {
    "collapsed": false
   },
   "outputs": [
    {
     "data": {
      "text/plain": [
       "[<matplotlib.lines.Line2D at 0x95b7ef0>]"
      ]
     },
     "execution_count": 71,
     "metadata": {},
     "output_type": "execute_result"
    },
    {
     "data": {
      "image/png": "[encoded data removed]",
      "text/plain": [
       "<matplotlib.figure.Figure at 0x92a0cc0>"
      ]
     },
     "metadata": {},
     "output_type": "display_data"
    }
   ],
   "source": []
  },
  {
   "cell_type": "code",
   "execution_count": 87,
   "metadata": {
    "collapsed": true
   },
   "outputs": [],
   "source": [
    "import random as rn\n",
    "import time \n",
    "\n",
    "def timeAnalysis2(n):\n",
    "        times = []\n",
    "        acct = Counter()\n",
    "        for i in range(n):\n",
    "            l=range(i)\n",
    "            rn.shuffle(l)\n",
    "            tic = time.clock()#get start time\n",
    "            mergeSort(l,acct)\n",
    "            toc = time.clock()#get final time\n",
    "            times.append((toc-tic)*1000000)\n",
    "        return times"
   ]
  },
  {
   "cell_type": "code",
   "execution_count": 88,
   "metadata": {
    "collapsed": false
   },
   "outputs": [
    {
     "data": {
      "text/plain": [
       "[<matplotlib.lines.Line2D at 0x9285710>,\n",
       " <matplotlib.lines.Line2D at 0xa4196a0>]"
      ]
     },
     "execution_count": 88,
     "metadata": {},
     "output_type": "execute_result"
    },
    {
     "data": {
      "image/png": "[encoded data removed]",
      "text/plain": [
       "<matplotlib.figure.Figure at 0x7c1c908>"
      ]
     },
     "metadata": {},
     "output_type": "display_data"
    }
   ],
   "source": [
    "pl.clf()\n",
    "x = np.arange(100)\n",
    "y = np.array(exper_analysis_merge(100))\n",
    "y2 = np.array(timeAnalysis2(100))\n",
    "pl.plot(x, y, x , y2)"
   ]
  },
  {
   "cell_type": "markdown",
   "metadata": {
    "collapsed": true
   },
   "source": [
    "# Punto 3"
   ]
  },
  {
   "cell_type": "markdown",
   "metadata": {},
   "source": [
    "# Invariante"
   ]
  },
  {
   "cell_type": "markdown",
   "metadata": {},
   "source": [
    "<h4>Invariante para quick sort donde el pivote es siempre menor al ultimo elemento, donde primero es pr y ultimo pt</h4>"
   ]
  },
  {
   "cell_type": "code",
   "execution_count": 26,
   "metadata": {
    "collapsed": true
   },
   "outputs": [],
   "source": [
    "def invariantQS(arr, pivote):\n",
    "    i = 0; j = pivote + 1\n",
    "    if j < len(arr):\n",
    "        while j < len(arr):\n",
    "            if arr[pivote] < arr[j]:\n",
    "                j = j + 1\n",
    "        else: \n",
    "              return false\n",
    "    else: \n",
    "        if pivote != 0:\n",
    "            while i>0:\n",
    "                if arr[pivote] > arr[i]:\n",
    "                    i = i + 1\n",
    "                else: \n",
    "                    return false\n",
    "    return true"
   ]
  },
  {
   "cell_type": "code",
   "execution_count": 97,
   "metadata": {
    "collapsed": true
   },
   "outputs": [],
   "source": [
    "def quickSort(arr):\n",
    "    quickSortH(arr,0,len(arr)-1)\n",
    "\n",
    "def quickSort_aux(arr,pr,ut):  \n",
    "    if pr < ut:\n",
    "        \n",
    "        hecho = False\n",
    "        pivote = arr[pr]\n",
    "        somb_izq = pr + 1\n",
    "        somb_der = ut\n",
    "        \n",
    "        while not hecho:\n",
    "            acct.count()\n",
    "            assert invarianteQS(arr,pivote)\n",
    "            while somb_izq <= somb_der and arr[somb_izq] <= pivote:          \n",
    "                   somb_izq = somb_izq + 1; \n",
    "            while arr[somb_der] >= pivote and somb_der >= somb_izq:\n",
    "                \n",
    "                somb_der = somb_der -1; \n",
    "            if somb_der < somb_izq:\n",
    "                hecho = True; \n",
    "            else:\n",
    "                temp = arr[somb_izq] \n",
    "                arr[somb_izq] = arr[somb_der] \n",
    "                arr[somb_der] = temp \n",
    "        temp = arr[pr] \n",
    "        arr[pr] = arr[somb_der] \n",
    "        arr[somb_der] = temp \n",
    "\n",
    "        splitpoint = somb_der; \n",
    "        quickSort_aux(arr,pr,splitpoint-1) \n",
    "        quickSort_aux(arr,splitpoint+1,ut)\n",
    "        assert invarianteQS(arr,pivote)"
   ]
  },
  {
   "cell_type": "code",
   "execution_count": 98,
   "metadata": {
    "collapsed": false
   },
   "outputs": [
    {
     "name": "stdout",
     "output_type": "stream",
     "text": [
      "[5, 25, 28, 32, 74, 85, 98]\n"
     ]
    }
   ],
   "source": [
    "a = [32,25,85,28,98,74,5]\n",
    "quickSort(a)\n",
    "print a"
   ]
  },
  {
   "cell_type": "code",
   "execution_count": 2,
   "metadata": {
    "collapsed": false
   },
   "outputs": [],
   "source": [
    "class Counter:\n",
    "    '''\n",
    "    Class Counter\n",
    "    Implements a step counter, which is used to compute the number of basic operations performed in\n",
    "    a particular call to a function.\n",
    "    '''\n",
    "    def __init__(self):\n",
    "        self.steps = 0\n",
    "\n",
    "    def reset(self):\n",
    "        self.steps = 0\n",
    "\n",
    "    def count(self):\n",
    "        self.steps += 1\n",
    "\n",
    "    def print_steps(self):\n",
    "        print \"Number of steps =\", self.steps\n",
    "        \n",
    "def quickSort_acct(arr,acct):\n",
    "   quickSort(arr,0,len(arr)-1,acct)\n",
    "\n",
    "def quickSort(arr,pr,ut,acct):\n",
    "\n",
    "    \n",
    "    if pr < ut:\n",
    "        pivote = arr[pr];acct.count()\n",
    "        somb_izq = pr + 1; acct.count()\n",
    "        somb_der = ut; acct.count()\n",
    "        hecho = False\n",
    "        while not hecho:\n",
    "           while somb_izq <= somb_der and arr[somb_izq] <= pivote:\n",
    "                   somb_izq = somb_izq + 1;acct.count()\n",
    "\n",
    "           while arr[somb_der] >= pivote and somb_der >= somb_izq:\n",
    "               somb_der = somb_der -1;acct.count()\n",
    "           if somb_der < somb_izq:\n",
    "               hecho = True;acct.count()\n",
    "           else:\n",
    "               temp = arr[somb_izq];acct.count()\n",
    "               arr[somb_izq] = arr[somb_der];acct.count()\n",
    "               arr[somb_der] = temp;acct.count()\n",
    "        temp = arr[pr];acct.count()\n",
    "        arr[pr] = arr[somb_der];acct.count()\n",
    "        arr[somb_der] = temp;acct.count()\n",
    "\n",
    "        splitpoint = somb_der;acct.count()\n",
    "        quickSort(arr,pr,splitpoint-1,acct);acct.count()\n",
    "        quickSort(arr,splitpoint+1,ut,acct);acct.count()\n",
    "   "
   ]
  },
  {
   "cell_type": "code",
   "execution_count": 3,
   "metadata": {
    "collapsed": true
   },
   "outputs": [],
   "source": [
    "import random as rnd\n",
    "\n",
    "def exper_analysis_quick(n):\n",
    "    results = []\n",
    "    acct = Counter()\n",
    "    for i in range(n):\n",
    "        l = range(i)\n",
    "        rnd.shuffle(l)\n",
    "        acct.reset()\n",
    "        quickSort_acct(l,acct)\n",
    "        results.append(acct.steps)\n",
    "    return results"
   ]
  },
  {
   "cell_type": "code",
   "execution_count": 4,
   "metadata": {
    "collapsed": false
   },
   "outputs": [
    {
     "name": "stdout",
     "output_type": "stream",
     "text": [
      "[0, 0, 11, 12, 24, 38, 44, 60, 74, 102]\n"
     ]
    }
   ],
   "source": [
    "print exper_analysis_quick(10)"
   ]
  },
  {
   "cell_type": "code",
   "execution_count": 5,
   "metadata": {
    "collapsed": false
   },
   "outputs": [
    {
     "name": "stdout",
     "output_type": "stream",
     "text": [
      "Number of steps = 98\n"
     ]
    }
   ],
   "source": [
    "B = np.random.permutation(range(0,10))\n",
    "acct = Counter()\n",
    "quickSort_acct(B, acct)\n",
    "acct.print_steps()"
   ]
  },
  {
   "cell_type": "code",
   "execution_count": 90,
   "metadata": {
    "collapsed": false
   },
   "outputs": [],
   "source": [
    "import random as rn\n",
    "import time \n",
    "\n",
    "def timeAnalysis(n):\n",
    "        times = []\n",
    "        acct = Counter()\n",
    "        for i in range(n):\n",
    "            l=range(i)\n",
    "            rn.shuffle(l)\n",
    "            tic = time.clock()#get start time\n",
    "            quickSort_acct(l,acct)\n",
    "            toc = time.clock()#get final time\n",
    "            times.append((toc-tic)*1000000)\n",
    "        return times"
   ]
  },
  {
   "cell_type": "code",
   "execution_count": 91,
   "metadata": {
    "collapsed": false
   },
   "outputs": [
    {
     "name": "stdout",
     "output_type": "stream",
     "text": [
      "[5.987132681184448, 2.1382616068876814, 23.948531179485144, 31.218621188600082, 33.78453493496636, 47.041757625265745, 67.14141818520147, 63.72019879563595, 129.15100751342834, 97.50473418534966]\n"
     ]
    }
   ],
   "source": [
    "print timeAnalysis(10);"
   ]
  },
  {
   "cell_type": "code",
   "execution_count": 92,
   "metadata": {
    "collapsed": false
   },
   "outputs": [
    {
     "data": {
      "text/plain": [
       "[<matplotlib.lines.Line2D at 0xa90d0f0>,\n",
       " <matplotlib.lines.Line2D at 0x77e2da0>]"
      ]
     },
     "execution_count": 92,
     "metadata": {},
     "output_type": "execute_result"
    },
    {
     "data": {
      "image/png": "[encoded data removed]",
      "text/plain": [
       "<matplotlib.figure.Figure at 0xa6dec50>"
      ]
     },
     "metadata": {},
     "output_type": "display_data"
    }
   ],
   "source": [
    "pl.clf()\n",
    "x = np.arange(100)\n",
    "y = np.array(exper_analysis_quick(100))\n",
    "y4 = np.array(timeAnalysis(100))\n",
    "pl.plot(x, y, x, y4)"
   ]
  },
  {
   "cell_type": "code",
   "execution_count": 9,
   "metadata": {
    "collapsed": false
   },
   "outputs": [
    {
     "data": {
      "text/plain": [
       "[<matplotlib.lines.Line2D at 0x774f940>]"
      ]
     },
     "execution_count": 9,
     "metadata": {},
     "output_type": "execute_result"
    },
    {
     "data": {
      "image/png": "[encoded data removed]",
      "text/plain": [
       "<matplotlib.figure.Figure at 0x77c3518>"
      ]
     },
     "metadata": {},
     "output_type": "display_data"
    }
   ],
   "source": [
    "pl.clf()\n",
    "x = np.arange(100)\n",
    "y = np.array(timeAnalysis(100))\n",
    "pl.plot(x, y, 'k.')"
   ]
  },
  {
   "cell_type": "code",
   "execution_count": null,
   "metadata": {
    "collapsed": true
   },
   "outputs": [],
   "source": []
  }
 ],
 "metadata": {
  "anaconda-cloud": {},
  "kernelspec": {
   "display_name": "Python [conda root]",
   "language": "python",
   "name": "conda-root-py"
  },
  "language_info": {
   "codemirror_mode": {
    "name": "ipython",
    "version": 2
   },
   "file_extension": ".py",
   "mimetype": "text/x-python",
   "name": "python",
   "nbconvert_exporter": "python",
   "pygments_lexer": "ipython2",
   "version": "2.7.12"
  }
 },
 "nbformat": 4,
 "nbformat_minor": 0
}
