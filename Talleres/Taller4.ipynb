{
 "cells": [
  {
   "cell_type": "markdown",
   "metadata": {},
   "source": [
    "# Taller 4"
   ]
  },
  {
   "cell_type": "markdown",
   "metadata": {},
   "source": []
  },
  {
   "cell_type": "code",
   "execution_count": 1,
   "metadata": {
    "collapsed": true
   },
   "outputs": [],
   "source": [
    "import math\n",
    "import time\n",
    "import matplotlib.pyplot as plt\n",
    "from itertools import chain\n",
    "import random as rnd\n",
    "import numpy as np\n",
    "import pylab as pl\n",
    "import time as tm\n",
    "%matplotlib inline"
   ]
  },
  {
   "cell_type": "markdown",
   "metadata": {},
   "source": [
    "## Punto 1"
   ]
  },
  {
   "cell_type": "markdown",
   "metadata": {},
   "source": [
    "Implemente un método que retorne la subsecuencia común más larga (SCL) apartir de la matriz C construida por el algoritmo de PD que calcula la longitud de la SCL."
   ]
  },
  {
   "cell_type": "code",
   "execution_count": 2,
   "metadata": {
    "collapsed": true
   },
   "outputs": [],
   "source": [
    "\n",
    "\n",
    "global C\n",
    "\n",
    "def lcs(X,Y):\n",
    "    global C\n",
    "    C = np.ones((len(X)+1,len(Y)+1))*-1\n",
    "    lcs3(X,Y,len(X),len(Y))\n",
    "    return C[len(X),len(Y)], C\n",
    "    \n",
    "\n",
    "def lcs3(x,y,i,j):\n",
    "    global C\n",
    "    if C[i,j] == -1:\n",
    "        if i == 0 or j == 0:\n",
    "            C[i,j] = 0\n",
    "        else:\n",
    "            if x[i-1]==y[j-1]:\n",
    "                C[i,j] = lcs3(x,y,i-1,j-1)+1\n",
    "            else:\n",
    "                C[i,j] = max(lcs3(x,y,i-1,j),lcs3(x,y,i,j-1))\n",
    "                \n",
    "    return C[i,j]"
   ]
  },
  {
   "cell_type": "code",
   "execution_count": 3,
   "metadata": {
    "collapsed": false
   },
   "outputs": [],
   "source": [
    "\n",
    "def subCom(matrix,A,B):\n",
    "    n = len(matrix) - 1\n",
    "    m = len(matrix[0]) - 1\n",
    "    subsecuencia = \"\"\n",
    "    while (m > 0 and m > 0):\n",
    "        if(matrix[n][m - 1] == matrix[n][m]):\n",
    "            \n",
    "            m = m - 1\n",
    "            \n",
    "        if(matrix[n][m] == matrix[n-1][m]):\n",
    "            \n",
    "            n = n - 1\n",
    "            \n",
    "        if(matrix[n][m] == matrix[n - 1][m - 1] + 1):\n",
    "            subsecuencia = A[n-1] + subsecuencia;\n",
    "                \n",
    "            n = n - 1\n",
    "            m = m - 1\n",
    "            \n",
    "    return subsecuencia"
   ]
  },
  {
   "cell_type": "code",
   "execution_count": 4,
   "metadata": {
    "collapsed": false
   },
   "outputs": [
    {
     "name": "stdout",
     "output_type": "stream",
     "text": [
      "[[ 0.  0.  0.  0. -1. -1. -1.]\n",
      " [ 0.  1.  1.  1.  1. -1. -1.]\n",
      " [-1.  1.  2.  2.  2.  2. -1.]\n",
      " [ 0.  1.  2.  2.  2.  2. -1.]\n",
      " [ 0.  1.  2.  2.  2.  2. -1.]\n",
      " [ 0.  1.  2.  2.  2.  2. -1.]\n",
      " [-1. -1. -1. -1. -1. -1.  3.]]\n",
      "iii\n"
     ]
    }
   ],
   "source": [
    "A = 'iiopoi'\n",
    "B = 'iiiiii'\n",
    "subsecuencia, mat = lcs(A,B)\n",
    "print mat\n",
    "print subCom(mat,A,B)"
   ]
  },
  {
   "cell_type": "markdown",
   "metadata": {},
   "source": [
    "## Punto 2"
   ]
  },
  {
   "cell_type": "markdown",
   "metadata": {},
   "source": [
    "### 1. Implemente un método para determinar los cortes que se deben realizar a partir de la solución de PD que encuentra el valor de la solución óptima."
   ]
  },
  {
   "cell_type": "code",
   "execution_count": 9,
   "metadata": {
    "collapsed": false
   },
   "outputs": [],
   "source": [
    "\n",
    "def cortes(vector,num):\n",
    "    n = len(vector) + 1\n",
    "    m = num + 1;\n",
    "    matrix = np.zeros((n,m))\n",
    "    \n",
    "    solucion = []\n",
    "    for i in range(num,m):\n",
    "        matrix[1][i] = i * vector[0]\n",
    "        \n",
    "    for i in range(2,n):\n",
    "        for j in range(1,m):\n",
    "            \n",
    "            if (j < i):\n",
    "                matrix[i][j] = matrix[i-1][j]\n",
    "            else:\n",
    "                matrix[i][j] = max(matrix[i-1][j], matrix[i][j - i] + vector[i - 1])\n",
    "    x = n - 1\n",
    "    y = m - 1 \n",
    "    \n",
    "    while (x > 0 and y > 0):\n",
    "        \n",
    "        if (matrix[x][y] == matrix[x - 1][y]):\n",
    "            \n",
    "            x = x - 1\n",
    "        elif(matrix[x][y] == matrix[x][y - i] + vector[x - 1]):\n",
    "            \n",
    "            solucion.append(x)\n",
    "            y = y - x \n",
    "    \n",
    "    return  solucion, matrix[n-1][m-1] \n"
   ]
  },
  {
   "cell_type": "code",
   "execution_count": null,
   "metadata": {
    "collapsed": false
   },
   "outputs": [],
   "source": [
    "a = [2,5,7,8]\n",
    "n = 5\n",
    "\n",
    "print cortes(a,n)"
   ]
  },
  {
   "cell_type": "markdown",
   "metadata": {},
   "source": [
    "## Punto 3"
   ]
  },
  {
   "cell_type": "markdown",
   "metadata": {},
   "source": []
  },
  {
   "cell_type": "code",
   "execution_count": 6,
   "metadata": {
    "collapsed": true
   },
   "outputs": [],
   "source": [
    "def distancia(str1,str2):\n",
    "    \n",
    "    n=len(str1)\n",
    "\n",
    "    m=len(str2)\n",
    "\n",
    "    matrix = np.zeros((n+1,m+1))\n",
    "\n",
    "    for i in range(0,n+1): \n",
    "\n",
    "        matrix[i][0] = i\n",
    "    for j in range(0,m+1):\n",
    "\n",
    "        matrix[0][j] = j\n",
    "    for i in range (1,n+1):\n",
    "\n",
    "        for j in range(1,m+1):\n",
    "\n",
    "            if str1[i-1] == str2[j-1]:\n",
    "                matrix[i][j] = matrix[i-1][j-1] \n",
    "\n",
    "            else :\n",
    "                matrix[i][j]= min(matrix[i][j-1],matrix[i-1][j],matrix[i-1][j-1])+1\n",
    "\n",
    "    return matrix[i][j]"
   ]
  },
  {
   "cell_type": "code",
   "execution_count": 7,
   "metadata": {
    "collapsed": false
   },
   "outputs": [
    {
     "name": "stdout",
     "output_type": "stream",
     "text": [
      "1.0\n"
     ]
    }
   ],
   "source": [
    "w1 = \"hola\"\n",
    "w2 = \"hole\"\n",
    "\n",
    "print distancia(w1,w2)"
   ]
  },
  {
   "cell_type": "code",
   "execution_count": null,
   "metadata": {
    "collapsed": true
   },
   "outputs": [],
   "source": []
  }
 ],
 "metadata": {
  "kernelspec": {
   "display_name": "Python 2",
   "language": "python",
   "name": "python2"
  },
  "language_info": {
   "codemirror_mode": {
    "name": "ipython",
    "version": 2
   },
   "file_extension": ".py",
   "mimetype": "text/x-python",
   "name": "python",
   "nbconvert_exporter": "python",
   "pygments_lexer": "ipython2",
   "version": "2.7.13"
  }
 },
 "nbformat": 4,
 "nbformat_minor": 2
}
