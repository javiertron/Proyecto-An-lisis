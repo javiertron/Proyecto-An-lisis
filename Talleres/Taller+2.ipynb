{
 "cells": [
  {
   "cell_type": "markdown",
   "metadata": {},
   "source": [
    "# Taller 2"
   ]
  },
  {
   "cell_type": "markdown",
   "metadata": {},
   "source": [
    "# Punto 1: Multiplicación de matrices"
   ]
  },
  {
   "cell_type": "markdown",
   "metadata": {},
   "source": [
    "La  precondición del algoritmo es que las matrices de entrada deben ser cuadradas."
   ]
  },
  {
   "cell_type": "code",
   "execution_count": 2,
   "metadata": {
    "collapsed": true
   },
   "outputs": [],
   "source": [
    "import math\n",
    "import numpy as np\n",
    "import pylab as pl\n",
    "%matplotlib inline"
   ]
  },
  {
   "cell_type": "code",
   "execution_count": 2,
   "metadata": {
    "collapsed": false
   },
   "outputs": [
    {
     "name": "stdout",
     "output_type": "stream",
     "text": [
      "[[ 1  2  3]\n",
      " [ 3  4  5]\n",
      " [ 2  3 11]]\n"
     ]
    }
   ],
   "source": [
    "a = np.matrix('1 2 3; 3 4  5;2 3 11')\n",
    "print a"
   ]
  },
  {
   "cell_type": "code",
   "execution_count": 3,
   "metadata": {
    "collapsed": false
   },
   "outputs": [
    {
     "name": "stdout",
     "output_type": "stream",
     "text": [
      "[[ 0.93853036  0.23105138  0.99018425]\n",
      " [ 0.50487075  0.61077421  0.36706644]\n",
      " [ 0.09602838  0.5090104   0.0560003 ]]\n"
     ]
    }
   ],
   "source": [
    "temp = []\n",
    "temp = np.random.random((3,3))\n",
    "print temp "
   ]
  },
  {
   "cell_type": "code",
   "execution_count": 4,
   "metadata": {
    "collapsed": false
   },
   "outputs": [],
   "source": [
    "c = a + temp"
   ]
  },
  {
   "cell_type": "code",
   "execution_count": 5,
   "metadata": {
    "collapsed": false
   },
   "outputs": [
    {
     "name": "stdout",
     "output_type": "stream",
     "text": [
      "3\n"
     ]
    }
   ],
   "source": [
    "print len(a)"
   ]
  },
  {
   "cell_type": "code",
   "execution_count": 46,
   "metadata": {
    "collapsed": false
   },
   "outputs": [],
   "source": [
    "def multmatric(matA , matB):\n",
    "    \n",
    "    dim = len(matA)\n",
    "    matriz = np.zeros((dim,dim))\n",
    "    for i in range(0, dim):\n",
    "        for j in range(0,dim): \n",
    "            aux = 0\n",
    "            for k in range (0,dim):\n",
    "                aux += matA[i][k] * matB[k][j]\n",
    "                matriz[i][j] = aux        \n",
    "    return matriz"
   ]
  },
  {
   "cell_type": "code",
   "execution_count": 48,
   "metadata": {
    "collapsed": false
   },
   "outputs": [
    {
     "name": "stdout",
     "output_type": "stream",
     "text": [
      "1\n",
      "1\n",
      "1\n",
      "1\n",
      "1\n",
      "1\n",
      "1\n",
      "1\n",
      "[[ 2.  2.]\n",
      " [ 2.  2.]]\n"
     ]
    }
   ],
   "source": [
    "a = multmatric([[1,1],[1,1]],[[1,1],[1,1]])\n",
    "print a"
   ]
  },
  {
   "cell_type": "code",
   "execution_count": 70,
   "metadata": {
    "collapsed": false
   },
   "outputs": [],
   "source": [
    "class Counter:\n",
    "    '''\n",
    "    Class Counter\n",
    "    Implements a step counter, which is used to compute the number of basic operations performed in\n",
    "    a particular call to a function.\n",
    "    '''\n",
    "    def __init__(self):\n",
    "        self.steps = 0\n",
    "\n",
    "    def reset(self):\n",
    "        self.steps = 0\n",
    "\n",
    "    def count(self):\n",
    "        self.steps += 1\n",
    "\n",
    "    def print_steps(self):\n",
    "        print \"Number of steps =\", self.steps\n",
    "    \n",
    "    \n",
    "def multmatric_acct(matA , matB, acct):\n",
    "    \n",
    "    dim = len(matA)\n",
    "    matriz = np.zeros((dim,dim)); acct.count()\n",
    "    for i in range(0, dim):\n",
    "        acct.count()\n",
    "        for j in range(0,dim): \n",
    "            acct.count()\n",
    "            aux = 0; acct.count()\n",
    "            for k in range (0,dim):\n",
    "                aux += matA[i][k] * matB[k][j]\n",
    "                matriz[i][j] = aux        \n",
    "    return matriz"
   ]
  },
  {
   "cell_type": "code",
   "execution_count": 71,
   "metadata": {
    "collapsed": false
   },
   "outputs": [
    {
     "name": "stdout",
     "output_type": "stream",
     "text": [
      "[1, 4, 11, 22, 37, 56, 79, 106, 137, 172]\n"
     ]
    }
   ],
   "source": [
    "import random as rnd\n",
    "\n",
    "def exper_analysisMatrices(n):\n",
    "    results = []\n",
    "    acct = Counter()\n",
    "    for i in range(n):\n",
    "        temp = np.random.random((i,i))\n",
    "        temp2 = np.random.random((i,i))\n",
    "        acct.reset()\n",
    "        multmatric_acct(temp,temp,acct)\n",
    "        results.append(acct.steps)\n",
    "    return results\n",
    "print exper_analysisMatrices(10);"
   ]
  },
  {
   "cell_type": "markdown",
   "metadata": {
    "collapsed": true
   },
   "source": [
    "# Punto 2: Divide and Conquer"
   ]
  },
  {
   "cell_type": "code",
   "execution_count": 5,
   "metadata": {
    "collapsed": false
   },
   "outputs": [],
   "source": [
    "def volverCuadrada(mat):\n",
    "    tam = len(mat)\n",
    "    auxx = np.zeros((tam,1))\n",
    "    auxy = np.zeros((1, tam+1))\n",
    "    mat = np.c_[mat,auxx]\n",
    "    mat = np.r_[mat,auxy]\n",
    "    return mat"
   ]
  },
  {
   "cell_type": "code",
   "execution_count": 61,
   "metadata": {
    "collapsed": false
   },
   "outputs": [],
   "source": [
    "class Counter:\n",
    "    '''\n",
    "    Class Counter\n",
    "    Implements a step counter, which is used to compute the number of basic operations performed in\n",
    "    a particular call to a function.\n",
    "    '''\n",
    "    def __init__(self):\n",
    "        self.steps = 0\n",
    "\n",
    "    def reset(self):\n",
    "        self.steps = 0\n",
    "\n",
    "    def count(self):\n",
    "        self.steps += 1\n",
    "\n",
    "    def print_steps(self):\n",
    "        print \"Number of steps =\", self.steps\n",
    "        \n",
    "        \n",
    "        \n",
    "def multMatr(temp1 , temp2, acct):\n",
    "    true = True;acct.count()\n",
    "    tam = len(temp1);acct.count()\n",
    "    if (len(temp1) <= 2):\n",
    "        acct.count()\n",
    "        aux = temp1*temp2;acct.count()\n",
    "        return aux\n",
    "         \n",
    "    else : \n",
    "        par = tam%2\n",
    "        if(par != 0 ):\n",
    "            acct.count()\n",
    "            true = False\n",
    "            temp1 = volverCuadrada(temp1)\n",
    "            temp2 = volverCuadrada(temp2)\n",
    "            tam = tam + 1\n",
    "            \n",
    "\n",
    "        tam = tam/2;acct.count()\n",
    "        a = temp1[:tam,:tam];acct.count(); b = temp1[tam:, :tam];acct.count(); c = temp1[tam:,tam:]; d= temp1[:tam,tam:]\n",
    "        a1 = temp2[:tam,:tam];acct.count(); b1 = temp2[tam:, :tam];acct.count(); c1 = temp2[tam:,tam:]; d1= temp2[:tam,tam:]\n",
    "\n",
    "    ma = multMatr(a,a1,acct);acct.count()\n",
    "    mb = multMatr(d,b1,acct);acct.count()\n",
    "    mc = multMatr(a,d1,acct);acct.count()\n",
    "    md = multMatr(d,c1,acct);acct.count()\n",
    "    ma1 = multMatr(b,a1,acct);acct.count()\n",
    "    mb1 = multMatr(c,b1,acct);acct.count()\n",
    "    mc1 = multMatr(b,d1,acct);acct.count()\n",
    "    md1 = multMatr(c,c1,acct);acct.count()\n",
    "    \n",
    "    s1 = ma1 + mb1;acct.count()\n",
    "    s2 = ma + mb;acct.count()\n",
    "    s3 = mc1 + md1;acct.count()\n",
    "    s4 = mc + md;acct.count()\n",
    "    \n",
    "    s2 = np.c_[s2,s4];acct.count()\n",
    "    s1 = np.c_[s1,s3];acct.count()\n",
    "    s2 = np.r_[s2,s1];acct.count()\n",
    "    \n",
    "    if true == False:\n",
    "        tam = len(s2);acct.count()\n",
    "        s2 = s2[:tam-1,:tam-1];acct.count()\n",
    "    return s2   \n",
    "\n"
   ]
  },
  {
   "cell_type": "code",
   "execution_count": 53,
   "metadata": {
    "collapsed": false
   },
   "outputs": [
    {
     "name": "stdout",
     "output_type": "stream",
     "text": [
      "[[ 1  2  3]\n",
      " [ 3  4  5]\n",
      " [ 2  3 11]]\n",
      "[[  1.   2.   3.   0.]\n",
      " [  3.   4.   5.   0.]\n",
      " [  2.   3.  11.   0.]\n",
      " [  0.   0.   0.   0.]]\n"
     ]
    }
   ],
   "source": [
    "a = np.matrix('1 2 3;3 4 5;2 3 11')\n",
    "print a\n",
    "a = volverCuadrada(a)\n",
    "print a"
   ]
  },
  {
   "cell_type": "code",
   "execution_count": 54,
   "metadata": {
    "collapsed": false
   },
   "outputs": [
    {
     "name": "stdout",
     "output_type": "stream",
     "text": [
      "[[  13.   19.   46.]\n",
      " [  25.   37.   84.]\n",
      " [  33.   49.  142.]]\n"
     ]
    }
   ],
   "source": [
    "a = np.matrix('1 2 3; 3 4  5;2 3 11')\n",
    "print multMatr(a,a)"
   ]
  },
  {
   "cell_type": "code",
   "execution_count": 55,
   "metadata": {
    "collapsed": false
   },
   "outputs": [
    {
     "name": "stdout",
     "output_type": "stream",
     "text": [
      "[[ 13  19  46]\n",
      " [ 25  37  84]\n",
      " [ 33  49 142]]\n"
     ]
    }
   ],
   "source": [
    "b = a*a\n",
    "print b"
   ]
  },
  {
   "cell_type": "code",
   "execution_count": 68,
   "metadata": {
    "collapsed": false
   },
   "outputs": [
    {
     "name": "stdout",
     "output_type": "stream",
     "text": [
      "[4, 4, 4, 57, 54, 481, 478, 457, 454, 3873]\n"
     ]
    }
   ],
   "source": [
    "import random as rnd\n",
    "\n",
    "def exper_analysisMat(n):\n",
    "    results = []\n",
    "    acct = Counter()\n",
    "    for i in range(n):\n",
    "        temp = np.random.random((i,i))\n",
    "        temp2 = np.random.random((i,i))\n",
    "        acct.reset()\n",
    "        multMatr(temp,temp,acct)\n",
    "        results.append(acct.steps)\n",
    "    return results\n",
    "print exper_analysisMat(10)"
   ]
  },
  {
   "cell_type": "markdown",
   "metadata": {},
   "source": [
    "# Comparación Punto 1 VS Punto 2"
   ]
  },
  {
   "cell_type": "code",
   "execution_count": 78,
   "metadata": {
    "collapsed": false
   },
   "outputs": [
    {
     "data": {
      "text/plain": [
       "[<matplotlib.lines.Line2D at 0x7fc73f46a7d0>,\n",
       " <matplotlib.lines.Line2D at 0x7fc73f46a9d0>]"
      ]
     },
     "execution_count": 78,
     "metadata": {},
     "output_type": "execute_result"
    },
    {
     "data": {
      "image/png": "[encoded data removed]",
      "text/plain": [
       "<matplotlib.figure.Figure at 0x7fc73f5cc790>"
      ]
     },
     "metadata": {},
     "output_type": "display_data"
    }
   ],
   "source": [
    "pl.clf()\n",
    "x = np.arange(10)\n",
    "y = np.array(exper_analysisMatrices(10))\n",
    "y2 = np.array(exper_analysisMat(10))\n",
    "pl.plot(x, y , x, y2)"
   ]
  },
  {
   "cell_type": "code",
   "execution_count": null,
   "metadata": {
    "collapsed": true
   },
   "outputs": [],
   "source": []
  }
 ],
 "metadata": {
  "anaconda-cloud": {},
  "kernelspec": {
   "display_name": "Python 2",
   "language": "python",
   "name": "python2"
  },
  "language_info": {
   "codemirror_mode": {
    "name": "ipython",
    "version": 2
   },
   "file_extension": ".py",
   "mimetype": "text/x-python",
   "name": "python",
   "nbconvert_exporter": "python",
   "pygments_lexer": "ipython2",
   "version": "2.7.13"
  }
 },
 "nbformat": 4,
 "nbformat_minor": 1
}
