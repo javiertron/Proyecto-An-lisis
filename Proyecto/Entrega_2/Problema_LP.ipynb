{
 "cells": [
  {
   "cell_type": "markdown",
   "metadata": {},
   "source": [
    "# Problema Programación Lineal"
   ]
  },
  {
   "cell_type": "markdown",
   "metadata": {},
   "source": [
    "Nombre del archivo debe ser pasado y modificado en el codigo"
   ]
  },
  {
   "cell_type": "code",
   "execution_count": 1,
   "metadata": {
    "collapsed": true
   },
   "outputs": [],
   "source": [
    "import math\n",
    "import numpy as np\n",
    "import pylab as pl\n",
    "%matplotlib inline"
   ]
  },
  {
   "cell_type": "code",
   "execution_count": null,
   "metadata": {
    "collapsed": false
   },
   "outputs": [],
   "source": [
    "#Algoritmo Dijkstra: Referenciado de https://gist.github.com/shintoishere/f0fa40fe1134b20e7729\n",
    "def dijkstra(matrix,m,n,k):\n",
    "    \n",
    "    cost=[[0 for x in range(m)] for x in range(1)]\n",
    "    offsets = []\n",
    "    offsets.append(k)\n",
    "    elepos=0\n",
    "    for j in range(m):\n",
    "        cost[0][j]=matrix[k][j]\n",
    "    mini=999\n",
    "    for x in range (m-1):\n",
    "        mini=999\n",
    "        for j in range (m):\n",
    "                if cost[0][j]<=mini and j not in offsets:\n",
    "                        mini=cost[0][j]\n",
    "                        elepos=j\n",
    "        offsets.append(elepos)\n",
    "        for j in range (m):\n",
    "            if cost[0][j] >cost[0][elepos]+matrix[elepos][j]:\n",
    "                cost[0][j]=cost[0][elepos]+matrix[elepos][j]\n",
    "    return cost\n",
    "    "
   ]
  },
  {
   "cell_type": "code",
   "execution_count": 3,
   "metadata": {
    "collapsed": false
   },
   "outputs": [
    {
     "name": "stdout",
     "output_type": "stream",
     "text": [
      "[[30, 44, 55]]\n"
     ]
    }
   ],
   "source": [
    "matrix=[[0 for x in range(3)] for x in range(3)]\n",
    "matrix[0][0]=11\n",
    "matrix[0][1]=22\n",
    "matrix[0][2]=30\n",
    "matrix[1][0]=30\n",
    "matrix[1][1]=44\n",
    "matrix[1][2]=55\n",
    "matrix[2][0]=25\n",
    "matrix[2][1]=32\n",
    "matrix[2][2]=110\n",
    "print dijkstra(matrix,3,3,1)"
   ]
  },
  {
   "cell_type": "code",
   "execution_count": 4,
   "metadata": {
    "collapsed": false
   },
   "outputs": [],
   "source": [
    "#Promedio de las distancias obtenidas en dikjstra a cada nodo \n",
    "def promediar(matrix):\n",
    "    n = len(matrix)\n",
    "    prom = 0\n",
    "    promedios = []\n",
    "    for x in range(n):\n",
    "        promedios.append('x')\n",
    "        \n",
    "    for i in range(0,n):\n",
    "        costos = dijkstra(matrix,n,n,i) \n",
    "        prom = 0\n",
    "        for j in range(0,n):  \n",
    "            prom = costos[0][j] + prom\n",
    "            \n",
    "        promedios[i] = (prom/n)  \n",
    "    return promedios"
   ]
  },
  {
   "cell_type": "code",
   "execution_count": 5,
   "metadata": {
    "collapsed": false
   },
   "outputs": [],
   "source": [
    "def variasTFijas(numtiendas,promedios):\n",
    "    tiendas =[]\n",
    "    prom = promedios[:];\n",
    "    n = len(promedios)\n",
    "    for x in range(numtiendas):\n",
    "        tiendas.append(x)\n",
    "      \n",
    "    \n",
    "    for i in range(0,numtiendas):\n",
    "        index = 0;\n",
    "        a = False\n",
    "        for j in range (0,n):\n",
    "            if promedios[j] == min(prom):\n",
    "                index = j;\n",
    "                if index in tiendas:\n",
    "                    a = True\n",
    "        if a==False:\n",
    "            tiendas[i]=index;\n",
    "            prom.remove(min(prom))\n",
    "                \n",
    "    return tiendas\n",
    "        \n",
    "        "
   ]
  },
  {
   "cell_type": "code",
   "execution_count": 6,
   "metadata": {
    "collapsed": false
   },
   "outputs": [],
   "source": [
    "#El criterio de selección es el de seleccionar el promedio obtenido en el algoritmo de dijkstra,\n",
    "#para cada nodo, sea tienda o ubicación de barrio se halla todas sus mínimas distancias, esto podría variar la salida \n",
    "#respecto a la seleccionada por el profesor\n",
    "def lp_tiendas(matrix, numtiendas):\n",
    "    n = len(matrix)\n",
    "    suma = 0;\n",
    "    tiendas = [0 for x in range(numtiendas)]\n",
    "    costicos = ['x' for x in range(n)]\n",
    "    promedios = [0 for x in range(n)]\n",
    "    relaciones = [0 for x in range(n)]\n",
    "    menor = 999\n",
    "    promedios = promediar(matrix)\n",
    "    if numtiendas == 1:\n",
    "        nodo = 0\n",
    "        for i in range(0,n):\n",
    "            if promedios[i] < menor:\n",
    "                menor = promedios[i]\n",
    "                nodo = i\n",
    "                for x in range(0,n):\n",
    "                    suma += matrix[nodo][x]\n",
    "        print(\"Debera colocar la tienda en el nodo:\",nodo)\n",
    "        print(\"Con un Costo de:\", suma)\n",
    "        print promedios\n",
    "    else:\n",
    "       \n",
    "            tiendas = variasTFijas(numtiendas,promedios)\n",
    "            print(\"Debera colocar la tienda en el nodo:\",tiendas)\n",
    "           \n",
    "            \n",
    "            for i in range(0,numtiendas):\n",
    "                costos = dijkstra(matrix,n,n,tiendas[i])\n",
    "                for x in range(0,n):\n",
    "                    if costos[0][x] != 0:\n",
    "                        costicos[x] = costos[0][x]\n",
    "                suma = min(costicos)\n",
    "                \n",
    "                        \n",
    "            print(\"Con un Costo de:\",suma)\n",
    "            print promedios\n",
    "    "
   ]
  },
  {
   "cell_type": "code",
   "execution_count": 7,
   "metadata": {
    "collapsed": false
   },
   "outputs": [
    {
     "name": "stdout",
     "output_type": "stream",
     "text": [
      "('Debera colocar la tienda en el nodo:', 0)\n",
      "('Con un Costo de:', 68)\n",
      "[5, 5, 10, 6]\n"
     ]
    }
   ],
   "source": [
    "\n",
    "matrix=[[0 for x in range(4)] for x in range(4)]\n",
    "matrix[0][0]=0\n",
    "matrix[0][1]=6\n",
    "matrix[0][2]=60\n",
    "matrix[0][3]=2\n",
    "matrix[1][0]=6\n",
    "matrix[1][1]=0\n",
    "matrix[1][2]=9\n",
    "matrix[1][3]=30\n",
    "matrix[2][0]=60\n",
    "matrix[2][1]=9\n",
    "matrix[2][2]=0\n",
    "matrix[2][3]=18\n",
    "matrix[3][0]=2\n",
    "matrix[3][1]=30\n",
    "matrix[3][2]=18\n",
    "matrix[3][3]=0\n",
    "    \n",
    "lp_tiendas(matrix,1)"
   ]
  },
  {
   "cell_type": "code",
   "execution_count": 24,
   "metadata": {
    "collapsed": false
   },
   "outputs": [
    {
     "name": "stdout",
     "output_type": "stream",
     "text": [
      "['A', '0', '6', '20', '2']\n",
      "['B', '6', '0', '9', '19']\n",
      "['C', '20', '9', '0', '18']\n",
      "['D', '2', '19', '18', '0']\n",
      "[[0, 6, 20, 2], [6, 0, 9, 19], [20, 9, 0, 18], [2, 19, 18, 0]]\n",
      "('Debera colocar la tienda en el nodo:', [0, 1])\n",
      "('Con un Costo de:', 6)\n",
      "[5, 5, 10, 6]\n"
     ]
    }
   ],
   "source": [
    "#Ejecución del algoritmo\n",
    "f = open('input_n5_k2','r')\n",
    "n = len(f.readlines())\n",
    "f.close()\n",
    "f = open('input_n5_k2','r')\n",
    "nodos=[x for i in range(0,n)]\n",
    "matrix=[[0 for x in range(n-1)] for x in range(n-1)]\n",
    "k = int(f.readline())\n",
    "for i in range(1,n):\n",
    "    x = f.readline()\n",
    "    x = x[:-1]\n",
    "    nodos = x.split('\t',n)\n",
    "    print nodos\n",
    "    for j in range(1,(n)):\n",
    "        matrix[i-1][j-1] = int(nodos[j])\n",
    "        \n",
    "print matrix\n",
    "lp_tiendas(matrix,k)"
   ]
  },
  {
   "cell_type": "markdown",
   "metadata": {},
   "source": [
    "# Segunda Parte Costos"
   ]
  },
  {
   "cell_type": "code",
   "execution_count": 47,
   "metadata": {
    "collapsed": true
   },
   "outputs": [],
   "source": [
    "def lp_tiendas(matrix, numtiendas,costos):\n",
    "    n = len(matrix)\n",
    "    suma = 0;\n",
    "    costoso = costos\n",
    "    tiendas = [0 for x in range(numtiendas)]\n",
    "    costicos = ['x' for x in range(n)]\n",
    "    promedios = [0 for x in range(n)]\n",
    "    relaciones = [0 for x in range(n)]\n",
    "    menor = 999\n",
    "    promedios = promediar(matrix)\n",
    "    if numtiendas == 1:\n",
    "        nodo = 0\n",
    "        for i in range(0,n):\n",
    "            if promedios[i] < menor:\n",
    "                menor = promedios[i]/costoso[i]\n",
    "                nodo = i\n",
    "                for x in range(0,n):\n",
    "                    suma += matrix[nodo][x]\n",
    "        print(\"Debera colocar la tienda en el nodo:\",nodo)\n",
    "        print(\"Con un Costo de:\", suma)\n",
    "        print promedios\n",
    "    else:\n",
    "       \n",
    "            tiendas = variasTFijasC(numtiendas,promedios,costoso)\n",
    "            print(\"Debera colocar la tienda en el nodo:\",tiendas)\n",
    "           \n",
    "            \n",
    "            for i in range(0,numtiendas):\n",
    "                costos = dijkstra(matrix,n,n,tiendas[i])\n",
    "                for x in range(0,n):\n",
    "                    if costos[0][x] != 0:\n",
    "                        costicos[x] = costos[0][x]\n",
    "                suma = min(costicos)\n",
    "                \n",
    "                        \n",
    "            print(\"Con un Costo de:\",suma)\n",
    "            "
   ]
  },
  {
   "cell_type": "code",
   "execution_count": 44,
   "metadata": {
    "collapsed": true
   },
   "outputs": [],
   "source": [
    "def variasTFijasC(numtiendas,promedios,costos):\n",
    "    tiendas =[]\n",
    "    n = len(promedios)\n",
    "    finales = ['x' for i in range(0,n)]\n",
    "    \n",
    "    for x in range(numtiendas):\n",
    "        tiendas.append(x)\n",
    "      \n",
    "    for x in range(0,n):\n",
    "        finales[x]=promedios[x]/costos[x]\n",
    "    \n",
    "    for i in range(0,numtiendas):\n",
    "        index = 0;\n",
    "        a = False\n",
    "        for j in range (0,n):\n",
    "            if promedios[j] == min(finales):\n",
    "                index = j;\n",
    "                if index in tiendas:\n",
    "                    a = True\n",
    "        if a==False:\n",
    "            tiendas[i]=index;\n",
    "            finales.remove(min(finales))\n",
    "                \n",
    "    return tiendas\n",
    "        "
   ]
  },
  {
   "cell_type": "code",
   "execution_count": null,
   "metadata": {
    "collapsed": false
   },
   "outputs": [],
   "source": [
    "#Ejecución del algoritmo con Costos\n",
    "f = open('input_n5_k2_c','r')\n",
    "n = len(f.readlines())\n",
    "f.close()\n",
    "f = open('input_n5_k2_c','r')\n",
    "nodos=[x for i in range(0,n)]\n",
    "costos = [x for i in range(0,n-1)]\n",
    "matrix=[[0 for x in range(n-1)] for x in range(n-1)]\n",
    "k = int(f.readline())\n",
    "for i in range(1,n):\n",
    "    x = f.readline()\n",
    "    x = x[:-1]\n",
    "    nodos = x.split('\t',n)\n",
    "    print nodos\n",
    "    costos[i-1] = int(nodos[1])\n",
    "    for j in range(2,n+1):\n",
    "        matrix[i-1][j-2] = int(nodos[j])\n",
    "        \n",
    "print matrix\n",
    "print costos\n",
    "lp_tiendas(matrix,k,costos)"
   ]
  },
  {
   "cell_type": "markdown",
   "metadata": {},
   "source": [
    "Este algoritmo queda al pendiente de optimizar con programación Lineal, en esta solución se tienen en cuenta todos los nodos, al aplicar la LP en cada iteración en que se calculen los promedios se deberá tener en cuenta cual nodo ya ha sido seleccionado como tienda y este deberá ser descartado. Esta implementación se hará en la tercera entrega del proyecto. "
   ]
  },
  {
   "cell_type": "code",
   "execution_count": null,
   "metadata": {
    "collapsed": true
   },
   "outputs": [],
   "source": []
  }
 ],
 "metadata": {
  "kernelspec": {
   "display_name": "Python 2",
   "language": "python",
   "name": "python2"
  },
  "language_info": {
   "codemirror_mode": {
    "name": "ipython",
    "version": 2
   },
   "file_extension": ".py",
   "mimetype": "text/x-python",
   "name": "python",
   "nbconvert_exporter": "python",
   "pygments_lexer": "ipython2",
   "version": "2.7.13"
  }
 },
 "nbformat": 4,
 "nbformat_minor": 2
}
