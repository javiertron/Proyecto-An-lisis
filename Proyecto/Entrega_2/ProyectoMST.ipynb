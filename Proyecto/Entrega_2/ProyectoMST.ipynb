{
 "cells": [
  {
   "cell_type": "markdown",
   "metadata": {},
   "source": [
    "<h1>Problema de MST</h1>"
   ]
  },
  {
   "cell_type": "markdown",
   "metadata": {},
   "source": [
    "<p>La primera implenetación es la siguiente del problema MST:</p>"
   ]
  },
  {
   "cell_type": "markdown",
   "metadata": {
    "collapsed": true
   },
   "source": [
    "<p>La función de este documento sera explicar el codigo que se realizo y las dos implmentaciones que se escogieron para poder solucionar el algoritmo MST, la segunda parte sera el codigo con los algoritmos</p>"
   ]
  },
  {
   "cell_type": "code",
   "execution_count": 1,
   "metadata": {
    "collapsed": true
   },
   "outputs": [],
   "source": [
    "import numpy as np\n",
    "import re\n",
    "from collections import namedtuple"
   ]
  },
  {
   "cell_type": "code",
   "execution_count": 2,
   "metadata": {
    "collapsed": false
   },
   "outputs": [],
   "source": [
    "class mst(object): \n",
    "    \n",
    "    def __init__(self):\n",
    "        self.parent= dict()\n",
    "        self.rank= dict()\n",
    "        self.minimum_spanning_tree = set()\n",
    "        \n",
    "    def make_set(self,vertice):\n",
    "        self.parent[vertice] = vertice\n",
    "        self.rank[vertice] = 0\n",
    "\n",
    "    def find(self, vertice):\n",
    "        if self.parent[vertice] != vertice:\n",
    "            self.parent[vertice] = self.find(self.parent[vertice])\n",
    "        return self.parent[vertice]\n",
    "\n",
    "    def union(self,vertice1, vertice2):\n",
    "        root1 = self.find(vertice1)\n",
    "        root2 = self.find(vertice2)\n",
    "        if root1 != root2:\n",
    "            if self.rank[root1] > self.rank[root2]:\n",
    "                self.parent[root2] = root1\n",
    "            else:\n",
    "                self.parent[root1] = root2\n",
    "                if self.rank[root1] == self.rank[root2]: self.rank[root2] += 1    \n",
    "\n",
    "    def kruskal(self, graph, color):\n",
    "        for vertice in graph['vertices']:\n",
    "            self.make_set(vertice)\n",
    "        cont =0\n",
    "        edges = list(graph['edges'])\n",
    "        edges.sort()\n",
    "        for edge in edges:\n",
    "            weight, vertice1, vertice2, colorEdge = edge\n",
    "            if colorEdge == color:\n",
    "                if self.find(vertice1) != self.find(vertice2):\n",
    "                        self.union(vertice1, vertice2)\n",
    "                        self.minimum_spanning_tree.add(edge)\n",
    "                        cont = cont + 1"
   ]
  },
  {
   "cell_type": "markdown",
   "metadata": {},
   "source": [
    "Este es el grafo de prueba que se encuentra en los casos bases"
   ]
  },
  {
   "cell_type": "code",
   "execution_count": 3,
   "metadata": {
    "collapsed": true
   },
   "outputs": [],
   "source": [
    "#weight, vertice1, vertice2, colorEdge\n",
    "graph = {\n",
    "        'vertices': ['0','1', '2', '3', '4', '5', '6' , '7'],\n",
    "        'edges': set([\n",
    "            (5, '0', '2', 'R'),\n",
    "            (4, '0', '4', 'B'),\n",
    "            (3, '1', '2', 'R'),\n",
    "            (3, '1', '3', 'B'),\n",
    "            (1, '1', '5', 'R'),\n",
    "            (8, '1', '6', 'B'),\n",
    "            (6, '2', '4', 'B'),\n",
    "            (4, '2', '6', 'B'),\n",
    "            (6, '3', '5', 'B'),\n",
    "            (6, '3', '7', 'B'),\n",
    "            (7, '4', '6', 'B'),\n",
    "            (5, '5', '7', 'R'),\n",
    "            (1, '6', '7', 'B'),\n",
    "            ])\n",
    "        }\n",
    "\n"
   ]
  },
  {
   "cell_type": "code",
   "execution_count": 4,
   "metadata": {
    "collapsed": true
   },
   "outputs": [],
   "source": [
    "def findDiference(first, second):\n",
    "    #se encuentra la diferencia de los sets azul y rojo\n",
    "    newSet = set()\n",
    "    newSet = first - second\n",
    "    return newSet"
   ]
  },
  {
   "cell_type": "code",
   "execution_count": 5,
   "metadata": {
    "collapsed": true
   },
   "outputs": [],
   "source": [
    "def createAdjacentList(mst):\n",
    "    dicMst = dict()\n",
    "    for edge in mst:\n",
    "        weight, vertice1, vertice2, colorEdge = edge\n",
    "        if vertice1 not in dicMst:\n",
    "            dicMst.setdefault(vertice1, [])\n",
    "            dicMst[vertice1].append(vertice2)\n",
    "        else:\n",
    "            dicMst[vertice1]= vertice2\n",
    "    return dicMst"
   ]
  },
  {
   "cell_type": "code",
   "execution_count": 6,
   "metadata": {
    "collapsed": true
   },
   "outputs": [],
   "source": [
    "def saveAsEdge(save, mst):\n",
    "    aux = set()\n",
    "    for i in save:\n",
    "        aux1, aux2= i\n",
    "        for edge in mst:\n",
    "            weight, vertice1, vertice2, colorEdge = edge\n",
    "            if (vertice1==aux1 and vertice2== aux2) or (vertice1==aux2 and vertice2== aux1):\n",
    "                flag=1\n",
    "                aux.add(edge)\n",
    "    print (aux)\n",
    "    return aux"
   ]
  },
  {
   "cell_type": "code",
   "execution_count": 7,
   "metadata": {
    "collapsed": true
   },
   "outputs": [],
   "source": [
    "def auxMethod(aux):\n",
    "    for edge in aux:\n",
    "        return edge"
   ]
  },
  {
   "cell_type": "code",
   "execution_count": 8,
   "metadata": {
    "collapsed": true
   },
   "outputs": [],
   "source": [
    "#https://codereview.stackexchange.com/questions/86021/check-if-a-directed-graph-contains-a-cycle\n",
    "def cyclic(g,save):\n",
    "    path = set()\n",
    "    visited = set()\n",
    "    def visit(vertex):\n",
    "        if vertex in visited:\n",
    "            return False\n",
    "        visited.add(vertex)\n",
    "        path.add(vertex)\n",
    "        for neighbour in g.get(vertex, ()):\n",
    "            if neighbour in path or visit(neighbour):\n",
    "                save.add(vertex)\n",
    "                save.add(neighbour)\n",
    "        path.remove(vertex)\n",
    "        if len(save)>0:\n",
    "            return save\n",
    "        else:\n",
    "            return 0\n",
    "    return any(visit(v) for v in g)"
   ]
  },
  {
   "cell_type": "code",
   "execution_count": 9,
   "metadata": {
    "collapsed": false
   },
   "outputs": [],
   "source": [
    "def mergMst(blue,red,contR, contB, k, n,auxMst):\n",
    "    if contB >= k or contR >= n:\n",
    "        return \"Mst\"\n",
    "    dicMst = dict()\n",
    "    save = set()\n",
    "    auxMst= findDiference(blue.minimum_spanning_tree,red.minimum_spanning_tree)\n",
    "    for aux in auxMst:\n",
    "        if contB< k and contR < n:\n",
    "            weight, vertice1, vertice2, colorEdge = aux\n",
    "            red.union(vertice1,vertice2)\n",
    "            red.minimum_spanning_tree.add(aux)\n",
    "            dicMst=createAdjacentList(red.minimum_spanning_tree)\n",
    "            flag=cyclic(dicMst,save)\n",
    "            if flag == True:\n",
    "                aux3 = set()\n",
    "                aux3 = saveAsEdge(save,blue.minimum_spanning_tree)#No esta en B\n",
    "                aux3=findDiference(aux3,blue.minimum_spanning_tree)\n",
    "                edge= auxMethod(aux3)\n",
    "                red.minimum_spanning_tree.remove(edge)\n",
    "                contB= contB +1\n",
    "                return mergMst(blue,red,contR, contB, k, n,auxMst ) \n",
    "            else:\n",
    "                contR = contR + 1\n",
    "                return mergMst(blue,red,contR, contB, k, n,auxMst ) "
   ]
  },
  {
   "cell_type": "markdown",
   "metadata": {},
   "source": [
    "pruebas con el grafo del profesor"
   ]
  },
  {
   "cell_type": "code",
   "execution_count": 10,
   "metadata": {
    "collapsed": false
   },
   "outputs": [],
   "source": [
    "    red = mst()\n",
    "    blue = mst()\n",
    "    blue.kruskal(graph, 'B')\n",
    "    red.kruskal(graph, 'R')\n",
    "    #print(findDiference(blue.minimum_spanning_tree,red.minimum_spanning_tree))"
   ]
  },
  {
   "cell_type": "code",
   "execution_count": 11,
   "metadata": {
    "collapsed": false
   },
   "outputs": [
    {
     "name": "stdout",
     "output_type": "stream",
     "text": [
      "{(4, '0', '4', 'B'), (3, '1', '3', 'B'), (5, '5', '7', 'R'), (5, '0', '2', 'R'), (3, '1', '2', 'R'), (1, '1', '5', 'R'), (6, '2', '4', 'B')}\n",
      "{(4, '0', '4', 'B'), (3, '1', '3', 'B'), (5, '5', '7', 'R'), (5, '0', '2', 'R'), (3, '1', '2', 'R'), (4, '2', '6', 'B'), (1, '1', '5', 'R'), (6, '3', '7', 'B'), (6, '2', '4', 'B')}\n"
     ]
    }
   ],
   "source": [
    "auxMst=set()\n",
    "mergMst(blue,red,0, 0, 4, 3,auxMst )\n",
    "print (red.minimum_spanning_tree)\n",
    "auxMst=set()\n",
    "mergMst(blue,red,0, 0, 5, 2,auxMst )\n",
    "print (red.minimum_spanning_tree)"
   ]
  },
  {
   "cell_type": "markdown",
   "metadata": {},
   "source": [
    "Definicion de como llamar el algoritmo"
   ]
  },
  {
   "cell_type": "code",
   "execution_count": 12,
   "metadata": {
    "collapsed": true
   },
   "outputs": [],
   "source": [
    "def solucion(graph,n,k,m):\n",
    "    red = mst()\n",
    "    blue = mst()\n",
    "    blue.kruskal(graph, 'B')\n",
    "    red.kruskal(graph, 'R')\n",
    "    auxMst=set()\n",
    "    mergMst(blue,red,0, 0, k, m,auxMst )\n",
    "    print (red.minimum_spanning_tree)"
   ]
  },
  {
   "cell_type": "markdown",
   "metadata": {},
   "source": [
    "LEctura de archivo"
   ]
  },
  {
   "cell_type": "raw",
   "metadata": {},
   "source": [
    "def lecturaArchivo():\n",
    "    f = open('input_n8_b4_r3','r')\n",
    "    n = int(f.readlines())\n",
    "    k = int(f.readlines())\n",
    "    m = int(n-k-1)\n",
    "    for j in range (n):\n",
    "        for i in range(n):\n",
    "            x = f.readline()\n",
    "            x = x[:-1]\n",
    "            nodos = x.split('\t',n)\n",
    "            graph[i-1] = int(nodos[1])\n",
    "            for k in range(n-j):\n",
    "                aux = x.split('/',n)\n",
    "                if aux != \"inf\"\n",
    "                    graph.add(nodos[k])\n",
    "    solucion(graph,n,k,m)"
   ]
  },
  {
   "cell_type": "markdown",
   "metadata": {},
   "source": [
    "<p>Este primer algoritmo resenta una solucion con O(E * log E)</p>\n",
    "<p>Este segundo algoritmo tiene en cuenta las osoluciones que no son posibles O(theta * log E)</p>"
   ]
  },
  {
   "cell_type": "code",
   "execution_count": 13,
   "metadata": {
    "collapsed": true
   },
   "outputs": [],
   "source": [
    "def solucionMasOptima(graph,n,k,m):\n",
    "    if len(graph)< k+1:\n",
    "        return 0# no es posible"
   ]
  }
 ],
 "metadata": {
  "anaconda-cloud": {},
  "kernelspec": {
   "display_name": "Python [conda root]",
   "language": "python",
   "name": "conda-root-py"
  },
  "language_info": {
   "codemirror_mode": {
    "name": "ipython",
    "version": 3
   },
   "file_extension": ".py",
   "mimetype": "text/x-python",
   "name": "python",
   "nbconvert_exporter": "python",
   "pygments_lexer": "ipython3",
   "version": "3.5.2"
  }
 },
 "nbformat": 4,
 "nbformat_minor": 1
}
